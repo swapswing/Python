{
 "cells": [
  {
   "cell_type": "code",
   "execution_count": 1,
   "id": "ebc4956e-bf4e-4eb9-887a-b7d4d2fe1dd9",
   "metadata": {},
   "outputs": [],
   "source": [
    "import io"
   ]
  },
  {
   "cell_type": "code",
   "execution_count": 8,
   "id": "d91d2a1e-086a-4a3c-b602-70751052ca9b",
   "metadata": {},
   "outputs": [],
   "source": [
    "with open(\"test1.txt\" , \"wb\") as f:\n",
    "    file = io.BufferedWriter(f)\n",
    "\n",
    "    file.write(b\"Data science is the study of data to extract meaningful insights for business. It is a multidisciplinary approach that combines principles and practices from the fields of mathematics, statistics, artificial intelligence, and computer engineering to analyze large amounts of data\\n\")\n",
    "    file.write(b\"this is my second line\")\n",
    "    file.flush()#buffer ke case me flush use hota he to close the file"
   ]
  },
  {
   "cell_type": "code",
   "execution_count": 13,
   "id": "43513b66-b181-4d2e-b0a0-67199873e0a6",
   "metadata": {},
   "outputs": [
    {
     "name": "stdout",
     "output_type": "stream",
     "text": [
      "b'Data science is the study of data to extract meaningful insights for business. It is a multidisciplinary approach that combines principles and practices from the fields of mathematics, statistics, artificial intelligence, and computer engineering to analyze large amounts of data\\nthis is my second line'\n"
     ]
    }
   ],
   "source": [
    "#reading above file\n",
    "with open(\"test1.txt\",\"rb\") as f:\n",
    "\n",
    "    file = io.BufferedReader(f)\n",
    "    data = file.read(1000)#size of data that we needed\n",
    "    print(data)"
   ]
  },
  {
   "cell_type": "code",
   "execution_count": null,
   "id": "26e469ef-bfb7-4bf7-be9c-b13f2a54d589",
   "metadata": {},
   "outputs": [],
   "source": []
  }
 ],
 "metadata": {
  "kernelspec": {
   "display_name": "Python 3 (ipykernel)",
   "language": "python",
   "name": "python3"
  },
  "language_info": {
   "codemirror_mode": {
    "name": "ipython",
    "version": 3
   },
   "file_extension": ".py",
   "mimetype": "text/x-python",
   "name": "python",
   "nbconvert_exporter": "python",
   "pygments_lexer": "ipython3",
   "version": "3.11.7"
  }
 },
 "nbformat": 4,
 "nbformat_minor": 5
}
