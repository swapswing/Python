{
 "cells": [
  {
   "cell_type": "code",
   "execution_count": 1,
   "id": "8e41f33f-380b-4f8a-92ed-6386852b5491",
   "metadata": {},
   "outputs": [],
   "source": [
    "f = open(\"test.txt\" , 'w')#creating the file named of test.txt in write format"
   ]
  },
  {
   "cell_type": "code",
   "execution_count": 2,
   "id": "c14a59c5-4467-45b1-884a-5456c5b8ca7f",
   "metadata": {},
   "outputs": [
    {
     "data": {
      "text/plain": [
       "'C:\\\\Users\\\\ASUS\\\\Desktop\\\\DATA SCIENCE'"
      ]
     },
     "execution_count": 2,
     "metadata": {},
     "output_type": "execute_result"
    }
   ],
   "source": [
    "pwd# seeing the directory where it created"
   ]
  },
  {
   "cell_type": "code",
   "execution_count": 3,
   "id": "cb47681c-53cc-4aac-b5c4-a598f8e49bf5",
   "metadata": {},
   "outputs": [
    {
     "name": "stdout",
     "output_type": "stream",
     "text": [
      " Volume in drive C is OS\n",
      " Volume Serial Number is 6E63-A00D\n",
      "\n",
      " Directory of C:\\Users\\ASUS\\Desktop\\DATA SCIENCE\n",
      "\n",
      "04/30/2024  12:20 AM    <DIR>          .\n",
      "05/01/2024  11:51 PM    <DIR>          ..\n",
      "04/30/2024  12:10 AM    <DIR>          .ipynb_checkpoints\n",
      "05/04/2024  06:48 PM                 0 test.txt\n",
      "04/30/2024  12:20 AM             2,736 Untitled.ipynb\n",
      "               2 File(s)          2,736 bytes\n",
      "               3 Dir(s)  244,631,523,328 bytes free\n"
     ]
    }
   ],
   "source": [
    "ls "
   ]
  },
  {
   "cell_type": "code",
   "execution_count": 4,
   "id": "d0bea829-85e8-4b6c-ac08-6c7a1ca97fc1",
   "metadata": {},
   "outputs": [
    {
     "data": {
      "text/plain": [
       "30"
      ]
     },
     "execution_count": 4,
     "metadata": {},
     "output_type": "execute_result"
    }
   ],
   "source": [
    "f.write(\"this is my first file to write\")#putting data into test.txt"
   ]
  },
  {
   "cell_type": "code",
   "execution_count": 5,
   "id": "8214ae9b-e6b3-4660-a46d-523117815e60",
   "metadata": {},
   "outputs": [],
   "source": [
    "f.close()"
   ]
  },
  {
   "cell_type": "code",
   "execution_count": 6,
   "id": "bec2045f-644a-4a14-b37f-6a7771c77ff7",
   "metadata": {},
   "outputs": [],
   "source": [
    "f = open(\"test.txt\" , 'w')"
   ]
  },
  {
   "cell_type": "code",
   "execution_count": 8,
   "id": "e51b5cdd-3d05-4ec6-b62a-c7d171ade4d3",
   "metadata": {},
   "outputs": [
    {
     "data": {
      "text/plain": [
       "15"
      ]
     },
     "execution_count": 8,
     "metadata": {},
     "output_type": "execute_result"
    }
   ],
   "source": [
    "f.write(\"This is my File\")"
   ]
  },
  {
   "cell_type": "code",
   "execution_count": 9,
   "id": "9935dad7-66f9-4c70-ad69-aa1fdc02a3ff",
   "metadata": {},
   "outputs": [],
   "source": [
    "f.close()"
   ]
  },
  {
   "cell_type": "code",
   "execution_count": 10,
   "id": "437fe513-f514-4981-821f-7905c9112ec8",
   "metadata": {},
   "outputs": [],
   "source": [
    "f = open(\"test.txt\" , 'a') #press shift + tab to see the modes  (a mode me pehle wala data bhi rehta he)"
   ]
  },
  {
   "cell_type": "code",
   "execution_count": 11,
   "id": "a5b5150e-c6d5-40bd-bfdf-40f6f6736b36",
   "metadata": {},
   "outputs": [
    {
     "data": {
      "text/plain": [
       "310"
      ]
     },
     "execution_count": 11,
     "metadata": {},
     "output_type": "execute_result"
    }
   ],
   "source": [
    "f.write(\"Good paragraphs begin with a topic sentence that briefly explains what the paragraph is about. Next come a few sentences for development and support, elaborating on the topic with more detail. Paragraphs end with a conclusion sentence that summarizes the topic or presents one final piece of support to wrap up\")"
   ]
  },
  {
   "cell_type": "code",
   "execution_count": 12,
   "id": "b3c2a60b-039d-48d5-aab1-d2717469b4f9",
   "metadata": {},
   "outputs": [],
   "source": [
    "f.close()"
   ]
  },
  {
   "cell_type": "code",
   "execution_count": 15,
   "id": "0aa6c090-8d8f-4a0a-b533-284a877bda6d",
   "metadata": {},
   "outputs": [],
   "source": [
    "data = open(\"test.txt\" , 'r')#openig the text file in data"
   ]
  },
  {
   "cell_type": "code",
   "execution_count": 16,
   "id": "950c1925-49ed-4d74-8b3e-adab2b6aec46",
   "metadata": {},
   "outputs": [
    {
     "data": {
      "text/plain": [
       "'This is my FileGood paragraphs begin with a topic sentence that briefly explains what the paragraph is about. Next come a few sentences for development and support, elaborating on the topic with more detail. Paragraphs end with a conclusion sentence that summarizes the topic or presents one final piece of support to wrap up'"
      ]
     },
     "execution_count": 16,
     "metadata": {},
     "output_type": "execute_result"
    }
   ],
   "source": [
    "data.read()#reading data from text file"
   ]
  },
  {
   "cell_type": "code",
   "execution_count": 19,
   "id": "d0718075-7469-4581-87ed-edfe25dd3446",
   "metadata": {},
   "outputs": [
    {
     "data": {
      "text/plain": [
       "'This is my FileGood paragraphs begin with a topic sentence that briefly explains what the paragraph is about. Next come a few sentences for development and support, elaborating on the topic with more detail. Paragraphs end with a conclusion sentence that summarizes the topic or presents one final piece of support to wrap up'"
      ]
     },
     "execution_count": 19,
     "metadata": {},
     "output_type": "execute_result"
    }
   ],
   "source": [
    "data.readline()"
   ]
  },
  {
   "cell_type": "code",
   "execution_count": 18,
   "id": "ba5ccbd0-6027-4a75-b8f4-76c3d3863f60",
   "metadata": {},
   "outputs": [
    {
     "data": {
      "text/plain": [
       "0"
      ]
     },
     "execution_count": 18,
     "metadata": {},
     "output_type": "execute_result"
    }
   ],
   "source": [
    "data.seek(0)#pointer ko jab oth position pe dala tabhi upar wali line run hoti he"
   ]
  },
  {
   "cell_type": "code",
   "execution_count": 22,
   "id": "b6d27cd0-59fd-40de-86c1-0c4af97678e1",
   "metadata": {},
   "outputs": [
    {
     "data": {
      "text/plain": [
       "' FileGood paragraphs begin with a topic sentence that briefly explains what the paragraph is about. Next come a few sentences for development and support, elaborating on the topic with more detail. Paragraphs end with a conclusion sentence that summarizes the topic or presents one final piece of support to wrap up'"
      ]
     },
     "execution_count": 22,
     "metadata": {},
     "output_type": "execute_result"
    }
   ],
   "source": [
    "data.readline()"
   ]
  },
  {
   "cell_type": "code",
   "execution_count": 24,
   "id": "103929e2-5357-43b5-ab56-4c52afe6c552",
   "metadata": {},
   "outputs": [
    {
     "data": {
      "text/plain": [
       "10"
      ]
     },
     "execution_count": 24,
     "metadata": {},
     "output_type": "execute_result"
    }
   ],
   "source": [
    "data.seek(10)#above data can be readable through 10th index"
   ]
  },
  {
   "cell_type": "code",
   "execution_count": 25,
   "id": "ba83afc3-abf1-41a2-9c53-7b1de3c56348",
   "metadata": {},
   "outputs": [
    {
     "data": {
      "text/plain": [
       "' FileGood paragraphs begin with a topic sentence that briefly explains what the paragraph is about. Next come a few sentences for development and support, elaborating on the topic with more detail. Paragraphs end with a conclusion sentence that summarizes the topic or presents one final piece of support to wrap up'"
      ]
     },
     "execution_count": 25,
     "metadata": {},
     "output_type": "execute_result"
    }
   ],
   "source": [
    "data.read()"
   ]
  },
  {
   "cell_type": "code",
   "execution_count": 26,
   "id": "61243c21-62d2-4057-85cd-9dbbb7c7779a",
   "metadata": {},
   "outputs": [],
   "source": [
    "data1 = open(\"test.txt\",'r')"
   ]
  },
  {
   "cell_type": "code",
   "execution_count": 27,
   "id": "96f60cfa-520e-4bac-a443-3c332a7f713a",
   "metadata": {},
   "outputs": [
    {
     "name": "stdout",
     "output_type": "stream",
     "text": [
      "This is my FileGood paragraphs begin with a topic sentence that briefly explains what the paragraph is about. Next come a few sentences for development and support, elaborating on the topic with more detail. Paragraphs end with a conclusion sentence that summarizes the topic or presents one final piece of support to wrap up\n"
     ]
    }
   ],
   "source": [
    "for i  in data1:\n",
    "    print(i)"
   ]
  },
  {
   "cell_type": "code",
   "execution_count": 28,
   "id": "e38cd4f0-e895-4556-8945-aeab53b8a195",
   "metadata": {},
   "outputs": [],
   "source": [
    "import os"
   ]
  },
  {
   "cell_type": "code",
   "execution_count": 29,
   "id": "a895dc1f-dda7-4688-b2e1-86d31f33cb11",
   "metadata": {},
   "outputs": [
    {
     "data": {
      "text/plain": [
       "325"
      ]
     },
     "execution_count": 29,
     "metadata": {},
     "output_type": "execute_result"
    }
   ],
   "source": [
    "os.path.getsize(\"test.txt\")#325 bytes"
   ]
  },
  {
   "cell_type": "code",
   "execution_count": 32,
   "id": "15ec243c-8524-4145-a1b4-bf0c03b261e8",
   "metadata": {},
   "outputs": [
    {
     "ename": "PermissionError",
     "evalue": "[WinError 32] The process cannot access the file because it is being used by another process: 'test.txt'",
     "output_type": "error",
     "traceback": [
      "\u001b[1;31m---------------------------------------------------------------------------\u001b[0m",
      "\u001b[1;31mPermissionError\u001b[0m                           Traceback (most recent call last)",
      "Cell \u001b[1;32mIn[32], line 1\u001b[0m\n\u001b[1;32m----> 1\u001b[0m os\u001b[38;5;241m.\u001b[39mremove(\u001b[38;5;124m\"\u001b[39m\u001b[38;5;124mtest.txt\u001b[39m\u001b[38;5;124m\"\u001b[39m)\n",
      "\u001b[1;31mPermissionError\u001b[0m: [WinError 32] The process cannot access the file because it is being used by another process: 'test.txt'"
     ]
    }
   ],
   "source": [
    "os.remove(\"test.txt\")"
   ]
  },
  {
   "cell_type": "code",
   "execution_count": 33,
   "id": "86b89940-c7cf-4a05-8377-93e813386288",
   "metadata": {},
   "outputs": [],
   "source": [
    " f = open(\"test1.txt\" , \"w\")"
   ]
  },
  {
   "cell_type": "code",
   "execution_count": 34,
   "id": "66996237-9a6e-46b9-b9da-a7725666d2d8",
   "metadata": {},
   "outputs": [
    {
     "data": {
      "text/plain": [
       "325"
      ]
     },
     "execution_count": 34,
     "metadata": {},
     "output_type": "execute_result"
    }
   ],
   "source": [
    "f.write(\"This is my FileGood paragraphs begin with a topic sentence that briefly explains what the paragraph is about. Next come a few sentences for development and support, elaborating on the topic with more detail. Paragraphs end with a conclusion sentence that summarizes the topic or presents one final piece of support to wrap up\")"
   ]
  },
  {
   "cell_type": "code",
   "execution_count": 35,
   "id": "6d6c823a-65ae-473a-8b78-6b195fb6c236",
   "metadata": {},
   "outputs": [],
   "source": [
    "f.close()"
   ]
  },
  {
   "cell_type": "code",
   "execution_count": 36,
   "id": "1a18a9bd-44d4-44bf-89da-1759925c960f",
   "metadata": {},
   "outputs": [],
   "source": [
    "os.rename(\"test1.txt\" , \"new.txt\")#renaming file name through os module"
   ]
  },
  {
   "cell_type": "code",
   "execution_count": 37,
   "id": "9e4de524-e83a-401f-9656-8641d1c3e9ce",
   "metadata": {},
   "outputs": [],
   "source": [
    "import shutil"
   ]
  },
  {
   "cell_type": "code",
   "execution_count": 38,
   "id": "d689cf37-3f2c-4dc4-b9a7-9e6cad6d7db0",
   "metadata": {},
   "outputs": [
    {
     "data": {
      "text/plain": [
       "'copy_new.txt'"
      ]
     },
     "execution_count": 38,
     "metadata": {},
     "output_type": "execute_result"
    }
   ],
   "source": [
    "shutil.copy(\"new.txt\" , \"copy_new.txt\")#copy the file using shutil"
   ]
  },
  {
   "cell_type": "code",
   "execution_count": 39,
   "id": "48f28143-daca-41d8-9a24-462e7c6de06d",
   "metadata": {},
   "outputs": [
    {
     "name": "stdout",
     "output_type": "stream",
     "text": [
      "This is my FileGood paragraphs begin with a topic sentence that briefly explains what the paragraph is about. Next come a few sentences for development and support, elaborating on the topic with more detail. Paragraphs end with a conclusion sentence that summarizes the topic or presents one final piece of support to wrap up\n"
     ]
    }
   ],
   "source": [
    "with open(\"new.txt\" , \"r\") as f :\n",
    "    print(f.read())"
   ]
  },
  {
   "cell_type": "code",
   "execution_count": null,
   "id": "e10296e3-53b3-4756-956a-c057a605d373",
   "metadata": {},
   "outputs": [],
   "source": []
  }
 ],
 "metadata": {
  "kernelspec": {
   "display_name": "Python 3 (ipykernel)",
   "language": "python",
   "name": "python3"
  },
  "language_info": {
   "codemirror_mode": {
    "name": "ipython",
    "version": 3
   },
   "file_extension": ".py",
   "mimetype": "text/x-python",
   "name": "python",
   "nbconvert_exporter": "python",
   "pygments_lexer": "ipython3",
   "version": "3.11.7"
  }
 },
 "nbformat": 4,
 "nbformat_minor": 5
}
