{
 "cells": [
  {
   "cell_type": "markdown",
   "id": "93cd6cbb-a32a-4368-9092-cfeca133f5df",
   "metadata": {},
   "source": [
    "BASICS"
   ]
  },
  {
   "cell_type": "code",
   "execution_count": 1,
   "id": "89d25fe6-bb5c-4219-aa38-e2a65643c1cd",
   "metadata": {},
   "outputs": [
    {
     "data": {
      "text/plain": [
       "2"
      ]
     },
     "execution_count": 1,
     "metadata": {},
     "output_type": "execute_result"
    }
   ],
   "source": [
    "1+1#for executing code shift+enter or ctrl + enter"
   ]
  },
  {
   "cell_type": "code",
   "execution_count": 2,
   "id": "ed840c3e-6ee7-482a-b22b-41d4b0a19113",
   "metadata": {},
   "outputs": [
    {
     "data": {
      "text/plain": [
       "25"
      ]
     },
     "execution_count": 2,
     "metadata": {},
     "output_type": "execute_result"
    }
   ],
   "source": [
    "5*5"
   ]
  },
  {
   "cell_type": "markdown",
   "id": "ba2d1e82-00ff-45f8-8d01-785113423c2a",
   "metadata": {},
   "source": [
    "VARIABLES"
   ]
  },
  {
   "cell_type": "code",
   "execution_count": 3,
   "id": "e6f5f862-45ec-47b8-8c4a-23e293c33c9b",
   "metadata": {},
   "outputs": [],
   "source": [
    "a =10  #allocating the memory to a as 10 or storing data into a"
   ]
  },
  {
   "cell_type": "code",
   "execution_count": 4,
   "id": "19e9bc68-ce8d-4435-94ef-e87ed4ad8f6f",
   "metadata": {},
   "outputs": [
    {
     "data": {
      "text/plain": [
       "10"
      ]
     },
     "execution_count": 4,
     "metadata": {},
     "output_type": "execute_result"
    }
   ],
   "source": [
    "a #calling a"
   ]
  },
  {
   "cell_type": "code",
   "execution_count": 5,
   "id": "4d24c3b4-1226-4867-91e0-5c61b122d31f",
   "metadata": {},
   "outputs": [],
   "source": [
    "swap = 30"
   ]
  },
  {
   "cell_type": "code",
   "execution_count": 6,
   "id": "b2e22ff3-c59a-4c0f-a1c6-ea1eeb1cf28a",
   "metadata": {},
   "outputs": [
    {
     "data": {
      "text/plain": [
       "30"
      ]
     },
     "execution_count": 6,
     "metadata": {},
     "output_type": "execute_result"
    }
   ],
   "source": [
    "swap #Python is the self type language"
   ]
  },
  {
   "cell_type": "code",
   "execution_count": 7,
   "id": "78c8c6bf-cdbc-4dd0-b1ad-8e290c6e05df",
   "metadata": {},
   "outputs": [
    {
     "data": {
      "text/plain": [
       "40"
      ]
     },
     "execution_count": 7,
     "metadata": {},
     "output_type": "execute_result"
    }
   ],
   "source": [
    "a + swap #adding two variables"
   ]
  },
  {
   "cell_type": "code",
   "execution_count": 8,
   "id": "8c0bf2bb-9358-475b-bd26-9344030fcfae",
   "metadata": {},
   "outputs": [
    {
     "data": {
      "text/plain": [
       "int"
      ]
     },
     "execution_count": 8,
     "metadata": {},
     "output_type": "execute_result"
    }
   ],
   "source": [
    "type(a)#to identefy which type of data type is this(thats why python self type language hai)"
   ]
  },
  {
   "cell_type": "code",
   "execution_count": 9,
   "id": "0bf8a16a-5eda-426e-a96f-bb0c013b5b95",
   "metadata": {},
   "outputs": [
    {
     "data": {
      "text/plain": [
       "int"
      ]
     },
     "execution_count": 9,
     "metadata": {},
     "output_type": "execute_result"
    }
   ],
   "source": [
    "type(swap)"
   ]
  },
  {
   "cell_type": "code",
   "execution_count": 10,
   "id": "08b7ac23-6184-4f31-8d52-fee82e18ed39",
   "metadata": {},
   "outputs": [],
   "source": [
    "b =3.99"
   ]
  },
  {
   "cell_type": "code",
   "execution_count": 11,
   "id": "5c3d6075-2a0e-49de-ae34-abb80f76b5ae",
   "metadata": {},
   "outputs": [
    {
     "data": {
      "text/plain": [
       "float"
      ]
     },
     "execution_count": 11,
     "metadata": {},
     "output_type": "execute_result"
    }
   ],
   "source": [
    "type(b)"
   ]
  },
  {
   "cell_type": "code",
   "execution_count": 12,
   "id": "6a246643-851d-4bc1-9cad-3017c3653ba0",
   "metadata": {},
   "outputs": [],
   "source": [
    "c = \"sigham\""
   ]
  },
  {
   "cell_type": "code",
   "execution_count": 13,
   "id": "2a9cb1c3-d154-45e2-9737-b94d2edf25dc",
   "metadata": {},
   "outputs": [
    {
     "data": {
      "text/plain": [
       "str"
      ]
     },
     "execution_count": 13,
     "metadata": {},
     "output_type": "execute_result"
    }
   ],
   "source": [
    "type(c)"
   ]
  },
  {
   "cell_type": "code",
   "execution_count": 14,
   "id": "4e443126-0047-4706-99bd-c2c937815a90",
   "metadata": {},
   "outputs": [],
   "source": [
    "e = ' this is my first class'"
   ]
  },
  {
   "cell_type": "code",
   "execution_count": 15,
   "id": "4e09922a-116e-44e0-b76f-f726a4b75eb0",
   "metadata": {},
   "outputs": [
    {
     "data": {
      "text/plain": [
       "str"
      ]
     },
     "execution_count": 15,
     "metadata": {},
     "output_type": "execute_result"
    }
   ],
   "source": [
    "type(e)"
   ]
  },
  {
   "cell_type": "code",
   "execution_count": 16,
   "id": "a8e2a1de-e1d9-4ada-9d79-12e4fc3005a1",
   "metadata": {},
   "outputs": [],
   "source": [
    " m = False"
   ]
  },
  {
   "cell_type": "code",
   "execution_count": 17,
   "id": "a01b3bf5-e527-4b48-86a8-9f9546ba966f",
   "metadata": {},
   "outputs": [
    {
     "data": {
      "text/plain": [
       "bool"
      ]
     },
     "execution_count": 17,
     "metadata": {},
     "output_type": "execute_result"
    }
   ],
   "source": [
    "type(m)"
   ]
  },
  {
   "cell_type": "code",
   "execution_count": 18,
   "id": "2526260c-66c8-4f0f-b949-9a4cce088c51",
   "metadata": {},
   "outputs": [],
   "source": [
    "n = True"
   ]
  },
  {
   "cell_type": "code",
   "execution_count": 19,
   "id": "bdedd2a0-351f-4500-8c78-1859f25e9181",
   "metadata": {},
   "outputs": [
    {
     "data": {
      "text/plain": [
       "bool"
      ]
     },
     "execution_count": 19,
     "metadata": {},
     "output_type": "execute_result"
    }
   ],
   "source": [
    "type(n)"
   ]
  },
  {
   "cell_type": "code",
   "execution_count": 20,
   "id": "f74f70a5-c55c-4729-aa8d-b59dac15015e",
   "metadata": {},
   "outputs": [
    {
     "data": {
      "text/plain": [
       "1"
      ]
     },
     "execution_count": 20,
     "metadata": {},
     "output_type": "execute_result"
    }
   ],
   "source": [
    "m + n #m=0 false and n= 1 true  1+0=1"
   ]
  },
  {
   "cell_type": "code",
   "execution_count": 21,
   "id": "f6a82eb3-2e14-4088-a836-15eab795b96f",
   "metadata": {},
   "outputs": [
    {
     "data": {
      "text/plain": [
       "1"
      ]
     },
     "execution_count": 21,
     "metadata": {},
     "output_type": "execute_result"
    }
   ],
   "source": [
    "True * True"
   ]
  },
  {
   "cell_type": "code",
   "execution_count": 22,
   "id": "040ca5f5-d595-4ed4-b94a-44c9c97ac76f",
   "metadata": {},
   "outputs": [
    {
     "data": {
      "text/plain": [
       "0"
      ]
     },
     "execution_count": 22,
     "metadata": {},
     "output_type": "execute_result"
    }
   ],
   "source": [
    "True * False"
   ]
  },
  {
   "cell_type": "code",
   "execution_count": 23,
   "id": "cf0fde84-6150-4dc8-b950-3669cac64fee",
   "metadata": {},
   "outputs": [
    {
     "ename": "ZeroDivisionError",
     "evalue": "division by zero",
     "output_type": "error",
     "traceback": [
      "\u001b[0;31m---------------------------------------------------------------------------\u001b[0m",
      "\u001b[0;31mZeroDivisionError\u001b[0m                         Traceback (most recent call last)",
      "Cell \u001b[0;32mIn[23], line 1\u001b[0m\n\u001b[0;32m----> 1\u001b[0m \u001b[38;5;28;43;01mTrue\u001b[39;49;00m\u001b[43m \u001b[49m\u001b[38;5;241;43m/\u001b[39;49m\u001b[43m \u001b[49m\u001b[38;5;28;43;01mFalse\u001b[39;49;00m\u001b[38;5;66;03m#1/0= infinity\u001b[39;00m\n",
      "\u001b[0;31mZeroDivisionError\u001b[0m: division by zero"
     ]
    }
   ],
   "source": [
    "True / False#1/0= infinity"
   ]
  },
  {
   "cell_type": "code",
   "execution_count": 24,
   "id": "74744566-d65f-4886-a5e0-94d46e1c4dca",
   "metadata": {},
   "outputs": [],
   "source": [
    "swap = 5 + 8j#variable name can be same but jo pichli value rehti hai vo boycot(delete or garbage) ho jati hai"
   ]
  },
  {
   "cell_type": "code",
   "execution_count": 25,
   "id": "cfb9ac36-6a3d-4d09-9b82-e687edbf39f6",
   "metadata": {},
   "outputs": [
    {
     "data": {
      "text/plain": [
       "complex"
      ]
     },
     "execution_count": 25,
     "metadata": {},
     "output_type": "execute_result"
    }
   ],
   "source": [
    "type(swap) #agar hame pata karna ho type aur sudh kya karte he to shift + tab press karna chahiye"
   ]
  },
  {
   "cell_type": "code",
   "execution_count": 26,
   "id": "22c04cdc-111d-4260-b0fa-d45675cb11ce",
   "metadata": {},
   "outputs": [
    {
     "data": {
      "text/plain": [
       "5.0"
      ]
     },
     "execution_count": 26,
     "metadata": {},
     "output_type": "execute_result"
    }
   ],
   "source": [
    "swap.real #v. and press Tab imag and real will popup"
   ]
  },
  {
   "cell_type": "code",
   "execution_count": 27,
   "id": "feba4a99-dde9-4ea7-9a51-8fb14f890596",
   "metadata": {},
   "outputs": [
    {
     "data": {
      "text/plain": [
       "8.0"
      ]
     },
     "execution_count": 27,
     "metadata": {},
     "output_type": "execute_result"
    }
   ],
   "source": [
    "swap.imag"
   ]
  },
  {
   "cell_type": "code",
   "execution_count": 28,
   "id": "13d23c04-bc3e-4d11-ae90-4929edfaa706",
   "metadata": {},
   "outputs": [
    {
     "data": {
      "text/plain": [
       "(5+8j)"
      ]
     },
     "execution_count": 28,
     "metadata": {},
     "output_type": "execute_result"
    }
   ],
   "source": [
    "swap #(5+8j) ye wale output ko console bolte hai"
   ]
  },
  {
   "cell_type": "code",
   "execution_count": 29,
   "id": "39f477ea-306e-4c73-856f-f27da739c2f6",
   "metadata": {},
   "outputs": [
    {
     "name": "stdout",
     "output_type": "stream",
     "text": [
      "My name is Swapnil\n"
     ]
    }
   ],
   "source": [
    "print(\"My name is Swapnil\")#printing the outcomes in the console"
   ]
  },
  {
   "cell_type": "code",
   "execution_count": 30,
   "id": "6ebc0585-f6d9-4130-ad83-bcce1b36716f",
   "metadata": {},
   "outputs": [
    {
     "name": "stdout",
     "output_type": "stream",
     "text": [
      "10\n"
     ]
    }
   ],
   "source": [
    "print(a)"
   ]
  },
  {
   "cell_type": "code",
   "execution_count": 31,
   "id": "17bcc00b-5e71-40e8-9562-27d2250782d1",
   "metadata": {},
   "outputs": [
    {
     "ename": "NameError",
     "evalue": "name 'sudh' is not defined",
     "output_type": "error",
     "traceback": [
      "\u001b[0;31m---------------------------------------------------------------------------\u001b[0m",
      "\u001b[0;31mNameError\u001b[0m                                 Traceback (most recent call last)",
      "Cell \u001b[0;32mIn[31], line 1\u001b[0m\n\u001b[0;32m----> 1\u001b[0m \u001b[38;5;28mprint\u001b[39m(\u001b[43msudh\u001b[49m)\n",
      "\u001b[0;31mNameError\u001b[0m: name 'sudh' is not defined"
     ]
    }
   ],
   "source": [
    "print(sudh)"
   ]
  },
  {
   "cell_type": "markdown",
   "id": "96835844-f3a0-4adf-bfdb-0bcf6591584e",
   "metadata": {},
   "source": [
    "String"
   ]
  },
  {
   "cell_type": "code",
   "execution_count": 87,
   "id": "ebd60358-eaf7-44e9-8c87-f50f986e0008",
   "metadata": {},
   "outputs": [],
   "source": [
    "s = \"pwskills\"#pwskills is a combination of characters giving index from 0 to n"
   ]
  },
  {
   "cell_type": "code",
   "execution_count": 88,
   "id": "cbb52f9f-7ef1-49f4-a928-53e2792961a5",
   "metadata": {},
   "outputs": [
    {
     "data": {
      "text/plain": [
       "str"
      ]
     },
     "execution_count": 88,
     "metadata": {},
     "output_type": "execute_result"
    }
   ],
   "source": [
    "type(s)"
   ]
  },
  {
   "cell_type": "code",
   "execution_count": 89,
   "id": "d6d82dae-735d-4c97-b7ea-1990473393e0",
   "metadata": {},
   "outputs": [
    {
     "data": {
      "text/plain": [
       "'p'"
      ]
     },
     "execution_count": 89,
     "metadata": {},
     "output_type": "execute_result"
    }
   ],
   "source": [
    "s[0]#extracting the characters from that particular index number (this is for default forward indexing)"
   ]
  },
  {
   "cell_type": "code",
   "execution_count": 90,
   "id": "5bed51d5-976e-465c-9be0-a4ed1ba905a1",
   "metadata": {},
   "outputs": [
    {
     "data": {
      "text/plain": [
       "'s'"
      ]
     },
     "execution_count": 90,
     "metadata": {},
     "output_type": "execute_result"
    }
   ],
   "source": [
    "s[2]#extracting pehla(first) wala 's'"
   ]
  },
  {
   "cell_type": "code",
   "execution_count": 91,
   "id": "807808e2-bebb-48ef-9460-d03e382d59e3",
   "metadata": {},
   "outputs": [
    {
     "data": {
      "text/plain": [
       "'k'"
      ]
     },
     "execution_count": 91,
     "metadata": {},
     "output_type": "execute_result"
    }
   ],
   "source": [
    "s[3]"
   ]
  },
  {
   "cell_type": "code",
   "execution_count": 92,
   "id": "171efe31-eb3e-4f1f-a979-9b51ce44c18a",
   "metadata": {},
   "outputs": [
    {
     "data": {
      "text/plain": [
       "'s'"
      ]
     },
     "execution_count": 92,
     "metadata": {},
     "output_type": "execute_result"
    }
   ],
   "source": [
    "s[-1]#exctracting characters from backward indexing"
   ]
  },
  {
   "cell_type": "code",
   "execution_count": 93,
   "id": "7e917890-54b0-4482-846a-c6db53c62e93",
   "metadata": {},
   "outputs": [
    {
     "data": {
      "text/plain": [
       "'p'"
      ]
     },
     "execution_count": 93,
     "metadata": {},
     "output_type": "execute_result"
    }
   ],
   "source": [
    "s[-8]#backward indexing stars from -1 to -n"
   ]
  },
  {
   "cell_type": "code",
   "execution_count": 94,
   "id": "4cac97a8-cac3-49f4-aa9b-d282f56c7f29",
   "metadata": {},
   "outputs": [
    {
     "data": {
      "text/plain": [
       "'pws'"
      ]
     },
     "execution_count": 94,
     "metadata": {},
     "output_type": "execute_result"
    }
   ],
   "source": [
    "s[0:3]#this is called String sliciing, hamesh jo index chahiye usse ek jyada  higher(+1) index number daliye"
   ]
  },
  {
   "cell_type": "code",
   "execution_count": 95,
   "id": "c5794e5b-26bd-40bb-bdfb-7614c46aeb95",
   "metadata": {},
   "outputs": [
    {
     "data": {
      "text/plain": [
       "'pw'"
      ]
     },
     "execution_count": 95,
     "metadata": {},
     "output_type": "execute_result"
    }
   ],
   "source": [
    "s[0:2]"
   ]
  },
  {
   "cell_type": "code",
   "execution_count": 96,
   "id": "d1e19052-93cd-4cd2-9f5c-ed765b156c18",
   "metadata": {},
   "outputs": [
    {
     "data": {
      "text/plain": [
       "'pwsk'"
      ]
     },
     "execution_count": 96,
     "metadata": {},
     "output_type": "execute_result"
    }
   ],
   "source": [
    "s[0:4]"
   ]
  },
  {
   "cell_type": "code",
   "execution_count": 97,
   "id": "05b61198-6a0f-444e-8437-a3fbbbbb0c00",
   "metadata": {},
   "outputs": [
    {
     "data": {
      "text/plain": [
       "'pwskills'"
      ]
     },
     "execution_count": 97,
     "metadata": {},
     "output_type": "execute_result"
    }
   ],
   "source": [
    "s[0:8:]#by default after '8:' positive 1 is there"
   ]
  },
  {
   "cell_type": "code",
   "execution_count": 98,
   "id": "726cd71b-618f-4516-9dc5-3b38f4950c06",
   "metadata": {},
   "outputs": [
    {
     "data": {
      "text/plain": [
       "'psil'"
      ]
     },
     "execution_count": 98,
     "metadata": {},
     "output_type": "execute_result"
    }
   ],
   "source": [
    "s[0:8:2]#finding characters after 2 indexes means after 2 jumps"
   ]
  },
  {
   "cell_type": "code",
   "execution_count": 99,
   "id": "efb939e7-aaa3-4c77-8a2a-fa0c1d1292ff",
   "metadata": {},
   "outputs": [
    {
     "data": {
      "text/plain": [
       "'psil'"
      ]
     },
     "execution_count": 99,
     "metadata": {},
     "output_type": "execute_result"
    }
   ],
   "source": [
    "s[::2]#same as s[0:8:2] , python bydeafult samaz jata hai"
   ]
  },
  {
   "cell_type": "code",
   "execution_count": 100,
   "id": "b0c091e7-4900-4475-83e2-4eaa47020e16",
   "metadata": {},
   "outputs": [
    {
     "data": {
      "text/plain": [
       "'psil'"
      ]
     },
     "execution_count": 100,
     "metadata": {},
     "output_type": "execute_result"
    }
   ],
   "source": [
    "s[0::2]"
   ]
  },
  {
   "cell_type": "code",
   "execution_count": 101,
   "id": "5f68799a-e17f-4964-9d74-2bf9706421d9",
   "metadata": {},
   "outputs": [
    {
     "data": {
      "text/plain": [
       "'sil'"
      ]
     },
     "execution_count": 101,
     "metadata": {},
     "output_type": "execute_result"
    }
   ],
   "source": [
    "s[2::2]"
   ]
  },
  {
   "cell_type": "code",
   "execution_count": 102,
   "id": "ed948dd2-083c-4b7c-b412-a5354fb315a5",
   "metadata": {},
   "outputs": [
    {
     "data": {
      "text/plain": [
       "'skills'"
      ]
     },
     "execution_count": 102,
     "metadata": {},
     "output_type": "execute_result"
    }
   ],
   "source": [
    "s[2::1]"
   ]
  },
  {
   "cell_type": "code",
   "execution_count": 103,
   "id": "c4c11dfe-2ca7-4ed9-8736-7abf1f13c1f7",
   "metadata": {},
   "outputs": [
    {
     "data": {
      "text/plain": [
       "'sllikswp'"
      ]
     },
     "execution_count": 103,
     "metadata": {},
     "output_type": "execute_result"
    }
   ],
   "source": [
    "s[::-1]#reverse the string"
   ]
  },
  {
   "cell_type": "code",
   "execution_count": 104,
   "id": "6ed5b83d-f23e-4d18-8eb4-930ec059d89c",
   "metadata": {},
   "outputs": [
    {
     "data": {
      "text/plain": [
       "''"
      ]
     },
     "execution_count": 104,
     "metadata": {},
     "output_type": "execute_result"
    }
   ],
   "source": [
    "s[2:7:-1]"
   ]
  },
  {
   "cell_type": "code",
   "execution_count": 105,
   "id": "fe9782d2-f17f-43c0-8f7a-a2cfed9d8ab6",
   "metadata": {},
   "outputs": [
    {
     "data": {
      "text/plain": [
       "''"
      ]
     },
     "execution_count": 105,
     "metadata": {},
     "output_type": "execute_result"
    }
   ],
   "source": [
    "s[8:0]"
   ]
  },
  {
   "cell_type": "code",
   "execution_count": 106,
   "id": "6bd53a8a-23ff-4331-9fcf-fdf961e0634d",
   "metadata": {},
   "outputs": [
    {
     "data": {
      "text/plain": [
       "'slliksw'"
      ]
     },
     "execution_count": 106,
     "metadata": {},
     "output_type": "execute_result"
    }
   ],
   "source": [
    "s[8:0:-1]"
   ]
  },
  {
   "cell_type": "code",
   "execution_count": 107,
   "id": "1af13f1b-f97e-4274-ba75-9157e1830bba",
   "metadata": {},
   "outputs": [
    {
     "data": {
      "text/plain": [
       "'sllikswp'"
      ]
     },
     "execution_count": 107,
     "metadata": {},
     "output_type": "execute_result"
    }
   ],
   "source": [
    "s[8: :-1]"
   ]
  },
  {
   "cell_type": "code",
   "execution_count": 108,
   "id": "8929d632-1469-4778-b7ef-bf6b1f3366fb",
   "metadata": {},
   "outputs": [
    {
     "data": {
      "text/plain": [
       "''"
      ]
     },
     "execution_count": 108,
     "metadata": {},
     "output_type": "execute_result"
    }
   ],
   "source": [
    "s[-2:-8:1]#-2 to -8 hum move kar rahe he by jumping 1 index number"
   ]
  },
  {
   "cell_type": "code",
   "execution_count": 109,
   "id": "d44328c6-2091-4880-83ce-c26a7f54d0a8",
   "metadata": {},
   "outputs": [
    {
     "data": {
      "text/plain": [
       "'lliksw'"
      ]
     },
     "execution_count": 109,
     "metadata": {},
     "output_type": "execute_result"
    }
   ],
   "source": [
    "s[-2:-8:-1]"
   ]
  },
  {
   "cell_type": "code",
   "execution_count": 110,
   "id": "0fd0f7e8-82d8-49e8-9aa7-69cedfeed547",
   "metadata": {},
   "outputs": [
    {
     "data": {
      "text/plain": [
       "'llikswp'"
      ]
     },
     "execution_count": 110,
     "metadata": {},
     "output_type": "execute_result"
    }
   ],
   "source": [
    "s[-2::-1]"
   ]
  },
  {
   "cell_type": "code",
   "execution_count": 111,
   "id": "33041ce2-72d4-40cb-98be-294cc8c3898f",
   "metadata": {},
   "outputs": [
    {
     "data": {
      "text/plain": [
       "'sllikswp'"
      ]
     },
     "execution_count": 111,
     "metadata": {},
     "output_type": "execute_result"
    }
   ],
   "source": [
    "s[::-1]#Reverse the String"
   ]
  },
  {
   "cell_type": "code",
   "execution_count": 112,
   "id": "21df0068-5bf7-4e17-9655-d72464afaa6a",
   "metadata": {},
   "outputs": [
    {
     "data": {
      "text/plain": [
       "'slliksw'"
      ]
     },
     "execution_count": 112,
     "metadata": {},
     "output_type": "execute_result"
    }
   ],
   "source": [
    "s[:-8:-1]"
   ]
  },
  {
   "cell_type": "code",
   "execution_count": 113,
   "id": "39fc79cf-1c54-4d56-b4f5-34ca34ae2b14",
   "metadata": {},
   "outputs": [
    {
     "data": {
      "text/plain": [
       "'pwskills'"
      ]
     },
     "execution_count": 113,
     "metadata": {},
     "output_type": "execute_result"
    }
   ],
   "source": [
    "s[::1]"
   ]
  },
  {
   "cell_type": "code",
   "execution_count": 114,
   "id": "c33cb582-22ee-46fc-a00a-77edb86144a3",
   "metadata": {},
   "outputs": [
    {
     "data": {
      "text/plain": [
       "''"
      ]
     },
     "execution_count": 114,
     "metadata": {},
     "output_type": "execute_result"
    }
   ],
   "source": [
    "s[:-90:]"
   ]
  },
  {
   "cell_type": "code",
   "execution_count": 115,
   "id": "1b291b00-3f83-4212-8aa1-dcad2454c583",
   "metadata": {},
   "outputs": [
    {
     "data": {
      "text/plain": [
       "'pwskills'"
      ]
     },
     "execution_count": 115,
     "metadata": {},
     "output_type": "execute_result"
    }
   ],
   "source": [
    "s[:90:]"
   ]
  },
  {
   "cell_type": "code",
   "execution_count": 116,
   "id": "17078994-862f-4512-b3dd-9378aa4f9aeb",
   "metadata": {},
   "outputs": [
    {
     "ename": "IndexError",
     "evalue": "string index out of range",
     "output_type": "error",
     "traceback": [
      "\u001b[0;31m---------------------------------------------------------------------------\u001b[0m",
      "\u001b[0;31mIndexError\u001b[0m                                Traceback (most recent call last)",
      "Cell \u001b[0;32mIn[116], line 1\u001b[0m\n\u001b[0;32m----> 1\u001b[0m \u001b[43ms\u001b[49m\u001b[43m[\u001b[49m\u001b[38;5;241;43m90\u001b[39;49m\u001b[43m]\u001b[49m\n",
      "\u001b[0;31mIndexError\u001b[0m: string index out of range"
     ]
    }
   ],
   "source": [
    "s[90]"
   ]
  },
  {
   "cell_type": "code",
   "execution_count": 117,
   "id": "762e9e94-9d13-41b2-8bf4-4be97ced57ca",
   "metadata": {},
   "outputs": [
    {
     "data": {
      "text/plain": [
       "'sllikswp'"
      ]
     },
     "execution_count": 117,
     "metadata": {},
     "output_type": "execute_result"
    }
   ],
   "source": [
    "s[:-90:-1]"
   ]
  },
  {
   "cell_type": "code",
   "execution_count": 118,
   "id": "1c0ec684-e2cd-45ab-bcfd-365ea8af4163",
   "metadata": {},
   "outputs": [],
   "source": [
    "c = 200"
   ]
  },
  {
   "cell_type": "code",
   "execution_count": 119,
   "id": "a1941f1d-b90c-4d25-9f53-a4ef9b15f911",
   "metadata": {},
   "outputs": [],
   "source": [
    "s1= \"this is my string class\""
   ]
  },
  {
   "cell_type": "code",
   "execution_count": 120,
   "id": "1d7e20a8-d987-4628-a829-ce3691190d7b",
   "metadata": {},
   "outputs": [
    {
     "data": {
      "text/plain": [
       "23"
      ]
     },
     "execution_count": 120,
     "metadata": {},
     "output_type": "execute_result"
    }
   ],
   "source": [
    "len(s1)#finding the string length"
   ]
  },
  {
   "cell_type": "code",
   "execution_count": 121,
   "id": "835d8936-70a5-4fbc-a25a-ebac43d1a345",
   "metadata": {},
   "outputs": [
    {
     "data": {
      "text/plain": [
       "3"
      ]
     },
     "execution_count": 121,
     "metadata": {},
     "output_type": "execute_result"
    }
   ],
   "source": [
    "s1.find('s')#finding the first s index number"
   ]
  },
  {
   "cell_type": "code",
   "execution_count": 122,
   "id": "04944911-296a-49ad-a120-a8700dc26ae8",
   "metadata": {},
   "outputs": [
    {
     "data": {
      "text/plain": [
       "2"
      ]
     },
     "execution_count": 122,
     "metadata": {},
     "output_type": "execute_result"
    }
   ],
   "source": [
    "s1.find('i')#finding first i index number"
   ]
  },
  {
   "cell_type": "code",
   "execution_count": 123,
   "id": "dffc994f-4b0c-4c96-9e72-1f85d8478d8d",
   "metadata": {},
   "outputs": [
    {
     "data": {
      "text/plain": [
       "2"
      ]
     },
     "execution_count": 123,
     "metadata": {},
     "output_type": "execute_result"
    }
   ],
   "source": [
    "s1.find('is')"
   ]
  },
  {
   "cell_type": "code",
   "execution_count": 124,
   "id": "ccf3f208-bfae-49cf-ba9c-d975ea7b962e",
   "metadata": {},
   "outputs": [
    {
     "data": {
      "text/plain": [
       "-1"
      ]
     },
     "execution_count": 124,
     "metadata": {},
     "output_type": "execute_result"
    }
   ],
   "source": [
    "s1.find('iS')#python is case sensitive lang hence it gives negative sign when it not found any character in string"
   ]
  },
  {
   "cell_type": "markdown",
   "id": "c1a394d5-4507-495c-b5b4-43e276952893",
   "metadata": {},
   "source": [
    "s1. then press tab you will find many functions for string"
   ]
  },
  {
   "cell_type": "code",
   "execution_count": 125,
   "id": "443b2b10-6d4b-4dc6-8ee5-4d744b046bb5",
   "metadata": {},
   "outputs": [
    {
     "data": {
      "text/plain": [
       "5"
      ]
     },
     "execution_count": 125,
     "metadata": {},
     "output_type": "execute_result"
    }
   ],
   "source": [
    "s1.count('s')#counting the value of s how many times it occured"
   ]
  },
  {
   "cell_type": "code",
   "execution_count": 126,
   "id": "3b4c17cb-b09c-4f7d-97ee-fbf3f2b93700",
   "metadata": {},
   "outputs": [
    {
     "data": {
      "text/plain": [
       "'this is my string class'"
      ]
     },
     "execution_count": 126,
     "metadata": {},
     "output_type": "execute_result"
    }
   ],
   "source": [
    "s1"
   ]
  },
  {
   "cell_type": "code",
   "execution_count": 127,
   "id": "97890c28-65ee-4ccb-82c5-a5a19fd54e9f",
   "metadata": {},
   "outputs": [
    {
     "data": {
      "text/plain": [
       "1"
      ]
     },
     "execution_count": 127,
     "metadata": {},
     "output_type": "execute_result"
    }
   ],
   "source": [
    "s1.count('st')"
   ]
  },
  {
   "cell_type": "code",
   "execution_count": 128,
   "id": "65680786-379f-4361-97d1-c2e9f3abb248",
   "metadata": {},
   "outputs": [
    {
     "data": {
      "text/plain": [
       "0"
      ]
     },
     "execution_count": 128,
     "metadata": {},
     "output_type": "execute_result"
    }
   ],
   "source": [
    "s1.count('z')"
   ]
  },
  {
   "cell_type": "code",
   "execution_count": 129,
   "id": "6e6ab385-902b-43e0-9bf4-7a05f1bf8f55",
   "metadata": {},
   "outputs": [
    {
     "data": {
      "text/plain": [
       "'THIS IS MY STRING CLASS'"
      ]
     },
     "execution_count": 129,
     "metadata": {},
     "output_type": "execute_result"
    }
   ],
   "source": [
    "s1.upper() # converting it into uppercase"
   ]
  },
  {
   "cell_type": "code",
   "execution_count": 130,
   "id": "74faba7b-c8cf-45ab-bc5a-87c0d48cd370",
   "metadata": {},
   "outputs": [],
   "source": [
    "s2='THIS IS MY STRING CLASS'"
   ]
  },
  {
   "cell_type": "code",
   "execution_count": 131,
   "id": "1195720a-1b46-4119-a3d9-b2086aa7eb40",
   "metadata": {},
   "outputs": [
    {
     "data": {
      "text/plain": [
       "'this is my string class'"
      ]
     },
     "execution_count": 131,
     "metadata": {},
     "output_type": "execute_result"
    }
   ],
   "source": [
    "s2.lower()#converting into lower case"
   ]
  },
  {
   "cell_type": "code",
   "execution_count": 132,
   "id": "0f2523d8-6ccb-47c7-8d6d-0366033943fb",
   "metadata": {},
   "outputs": [
    {
     "data": {
      "text/plain": [
       "'this is my string class'"
      ]
     },
     "execution_count": 132,
     "metadata": {},
     "output_type": "execute_result"
    }
   ],
   "source": [
    "s1"
   ]
  },
  {
   "cell_type": "code",
   "execution_count": 133,
   "id": "e5f32abc-48db-4603-add8-e8eaa5647319",
   "metadata": {},
   "outputs": [
    {
     "data": {
      "text/plain": [
       "'This Is My String Class'"
      ]
     },
     "execution_count": 133,
     "metadata": {},
     "output_type": "execute_result"
    }
   ],
   "source": [
    "s1.title()#making title"
   ]
  },
  {
   "cell_type": "code",
   "execution_count": 134,
   "id": "ee08fd3d-8873-4f53-8917-e24283b3ae7c",
   "metadata": {},
   "outputs": [
    {
     "data": {
      "text/plain": [
       "'This is my string class'"
      ]
     },
     "execution_count": 134,
     "metadata": {},
     "output_type": "execute_result"
    }
   ],
   "source": [
    "s1.capitalize()#first letter capital only"
   ]
  },
  {
   "cell_type": "code",
   "execution_count": 135,
   "id": "88f0a175-7404-4204-a6c9-087a0380a4a8",
   "metadata": {},
   "outputs": [
    {
     "data": {
      "text/plain": [
       "'pwskills'"
      ]
     },
     "execution_count": 135,
     "metadata": {},
     "output_type": "execute_result"
    }
   ],
   "source": [
    "s"
   ]
  },
  {
   "cell_type": "code",
   "execution_count": 136,
   "id": "26cf3577-1a8e-4a00-891e-dfc71ea989ce",
   "metadata": {},
   "outputs": [
    {
     "ename": "TypeError",
     "evalue": "can only concatenate str (not \"int\") to str",
     "output_type": "error",
     "traceback": [
      "\u001b[0;31m---------------------------------------------------------------------------\u001b[0m",
      "\u001b[0;31mTypeError\u001b[0m                                 Traceback (most recent call last)",
      "Cell \u001b[0;32mIn[136], line 1\u001b[0m\n\u001b[0;32m----> 1\u001b[0m \u001b[43ms\u001b[49m\u001b[43m \u001b[49m\u001b[38;5;241;43m+\u001b[39;49m\u001b[43m \u001b[49m\u001b[38;5;241;43m1\u001b[39;49m\n",
      "\u001b[0;31mTypeError\u001b[0m: can only concatenate str (not \"int\") to str"
     ]
    }
   ],
   "source": [
    "s + 1"
   ]
  },
  {
   "cell_type": "code",
   "execution_count": 141,
   "id": "d8f5c13b-845a-451b-85f0-b594f897bbb4",
   "metadata": {},
   "outputs": [
    {
     "data": {
      "text/plain": [
       "'pwskills swap'"
      ]
     },
     "execution_count": 141,
     "metadata": {},
     "output_type": "execute_result"
    }
   ],
   "source": [
    "s + \" swap\"#string only combine with string"
   ]
  },
  {
   "cell_type": "code",
   "execution_count": 142,
   "id": "c7289a62-532e-4032-8cec-739d65a32e9d",
   "metadata": {},
   "outputs": [
    {
     "data": {
      "text/plain": [
       "'pwskills 1'"
      ]
     },
     "execution_count": 142,
     "metadata": {},
     "output_type": "execute_result"
    }
   ],
   "source": [
    "s + ' 1'"
   ]
  },
  {
   "cell_type": "code",
   "execution_count": 143,
   "id": "024ffaba-c3d0-407b-81bb-73071e0862b7",
   "metadata": {},
   "outputs": [
    {
     "data": {
      "text/plain": [
       "'pwskills1'"
      ]
     },
     "execution_count": 143,
     "metadata": {},
     "output_type": "execute_result"
    }
   ],
   "source": [
    "s + str(1)"
   ]
  },
  {
   "cell_type": "code",
   "execution_count": 144,
   "id": "93a527f6-de6f-4008-a248-c45c23db0936",
   "metadata": {},
   "outputs": [
    {
     "data": {
      "text/plain": [
       "'pwskillspwskillspwskills'"
      ]
     },
     "execution_count": 144,
     "metadata": {},
     "output_type": "execute_result"
    }
   ],
   "source": [
    "s * 3"
   ]
  },
  {
   "cell_type": "code",
   "execution_count": 145,
   "id": "406cd7cb-90e8-4e77-964c-044e9a4dd959",
   "metadata": {},
   "outputs": [
    {
     "data": {
      "text/plain": [
       "'swapswapswapswap'"
      ]
     },
     "execution_count": 145,
     "metadata": {},
     "output_type": "execute_result"
    }
   ],
   "source": [
    "'swap' * 4"
   ]
  },
  {
   "cell_type": "code",
   "execution_count": 146,
   "id": "0c4bc4af-5130-4317-a0d8-6448ae8f9e28",
   "metadata": {},
   "outputs": [
    {
     "ename": "TypeError",
     "evalue": "unsupported operand type(s) for /: 'str' and 'int'",
     "output_type": "error",
     "traceback": [
      "\u001b[0;31m---------------------------------------------------------------------------\u001b[0m",
      "\u001b[0;31mTypeError\u001b[0m                                 Traceback (most recent call last)",
      "Cell \u001b[0;32mIn[146], line 1\u001b[0m\n\u001b[0;32m----> 1\u001b[0m \u001b[38;5;124;43m'\u001b[39;49m\u001b[38;5;124;43mswap\u001b[39;49m\u001b[38;5;124;43m'\u001b[39;49m\u001b[38;5;241;43m/\u001b[39;49m\u001b[38;5;241;43m4\u001b[39;49m\n",
      "\u001b[0;31mTypeError\u001b[0m: unsupported operand type(s) for /: 'str' and 'int'"
     ]
    }
   ],
   "source": [
    "'swap'/4"
   ]
  },
  {
   "cell_type": "code",
   "execution_count": 148,
   "id": "47e78bf9-34bc-447f-8a9c-52a8f818b2b9",
   "metadata": {},
   "outputs": [
    {
     "data": {
      "text/plain": [
       "\"don't do copy and paste in my clas\""
      ]
     },
     "execution_count": 148,
     "metadata": {},
     "output_type": "execute_result"
    }
   ],
   "source": [
    "\"don't do copy and paste in my clas\""
   ]
  },
  {
   "cell_type": "code",
   "execution_count": 149,
   "id": "ee179ef9-f6ad-4a1d-9ac9-848c536fed90",
   "metadata": {},
   "outputs": [
    {
     "data": {
      "text/plain": [
       "'don\"t do copy and paste in my clas'"
      ]
     },
     "execution_count": 149,
     "metadata": {},
     "output_type": "execute_result"
    }
   ],
   "source": [
    "'don\"t do copy and paste in my clas'"
   ]
  },
  {
   "cell_type": "code",
   "execution_count": null,
   "id": "8c44c5bc-1d96-4d09-8f98-267f206850cb",
   "metadata": {},
   "outputs": [],
   "source": [
    "#single line comment\n",
    "''' or \"\"\" multiple line comment"
   ]
  }
 ],
 "metadata": {
  "kernelspec": {
   "display_name": "Python 3 (ipykernel)",
   "language": "python",
   "name": "python3"
  },
  "language_info": {
   "codemirror_mode": {
    "name": "ipython",
    "version": 3
   },
   "file_extension": ".py",
   "mimetype": "text/x-python",
   "name": "python",
   "nbconvert_exporter": "python",
   "pygments_lexer": "ipython3",
   "version": "3.10.8"
  }
 },
 "nbformat": 4,
 "nbformat_minor": 5
}
