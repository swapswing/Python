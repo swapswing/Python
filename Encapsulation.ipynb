{
 "cells": [
  {
   "cell_type": "code",
   "execution_count": 1,
   "id": "58f7f302-2c1a-4475-b851-a54f8518fdca",
   "metadata": {},
   "outputs": [],
   "source": [
    "class test :\n",
    "    \n",
    "    def __init__(self , a, b):\n",
    "        self.a = a\n",
    "        self.b = b"
   ]
  },
  {
   "cell_type": "code",
   "execution_count": 2,
   "id": "81df91e3-c4bd-47c6-81e6-752181fa9f1e",
   "metadata": {},
   "outputs": [],
   "source": [
    "t = test(23 ,34)"
   ]
  },
  {
   "cell_type": "code",
   "execution_count": 3,
   "id": "6582447a-222c-4843-8db3-8845ccef7217",
   "metadata": {},
   "outputs": [],
   "source": [
    "t.a = 234545#we are externally access and changing it"
   ]
  },
  {
   "cell_type": "code",
   "execution_count": 4,
   "id": "00155d70-5c56-499a-b3ae-7ae3bf9f26a1",
   "metadata": {},
   "outputs": [
    {
     "data": {
      "text/plain": [
       "234545"
      ]
     },
     "execution_count": 4,
     "metadata": {},
     "output_type": "execute_result"
    }
   ],
   "source": [
    "t.a#user can see how many variables we have thats why encapsulation is used to hide or did the variables private   "
   ]
  },
  {
   "cell_type": "code",
   "execution_count": 5,
   "id": "cd0dde2f-27b1-4ca8-a730-9fdc9cfb72b1",
   "metadata": {},
   "outputs": [],
   "source": [
    "class car :\n",
    "    def __init__(self , year , make , model , speed) :\n",
    "        \n",
    "        self.__year = year#(__ means private)\n",
    "        self.__make = make\n",
    "        self.__model = model\n",
    "        self.__speed = 0\n",
    "        \n",
    "    def set_speed(self , speed):#we made this public function\n",
    "        self.__speed = 0 if speed < 0 else speed\n",
    "        \n",
    "        \n",
    "    def get_speed(self) :#public function\n",
    "        return self.__speed"
   ]
  },
  {
   "cell_type": "code",
   "execution_count": 6,
   "id": "2884526a-d8a7-44e5-a054-4069520c1269",
   "metadata": {},
   "outputs": [],
   "source": [
    "c= car(2021, \"toyota\" , \"innova\" , 12)"
   ]
  },
  {
   "cell_type": "code",
   "execution_count": 7,
   "id": "9fc14584-e505-4192-8fab-8e81c51c6f78",
   "metadata": {},
   "outputs": [
    {
     "data": {
      "text/plain": [
       "2021"
      ]
     },
     "execution_count": 7,
     "metadata": {},
     "output_type": "execute_result"
    }
   ],
   "source": [
    "c._car__year"
   ]
  },
  {
   "cell_type": "code",
   "execution_count": 8,
   "id": "cd7e737d-e4b5-4cce-8c11-04ab2c3ad955",
   "metadata": {},
   "outputs": [],
   "source": [
    "c.set_speed(-3245)"
   ]
  },
  {
   "cell_type": "code",
   "execution_count": 9,
   "id": "52590a58-f7fa-4e80-8f16-cd1b7e4e7246",
   "metadata": {},
   "outputs": [
    {
     "data": {
      "text/plain": [
       "0"
      ]
     },
     "execution_count": 9,
     "metadata": {},
     "output_type": "execute_result"
    }
   ],
   "source": [
    "c.get_speed()"
   ]
  },
  {
   "cell_type": "code",
   "execution_count": 10,
   "id": "132d51b2-ea25-4e8b-aeeb-4367a6390fc4",
   "metadata": {},
   "outputs": [],
   "source": [
    "c.set_speed(234)"
   ]
  },
  {
   "cell_type": "code",
   "execution_count": 11,
   "id": "0ee1c280-2594-47dd-941c-dea7db807239",
   "metadata": {},
   "outputs": [
    {
     "data": {
      "text/plain": [
       "234"
      ]
     },
     "execution_count": 11,
     "metadata": {},
     "output_type": "execute_result"
    }
   ],
   "source": [
    "c.get_speed()"
   ]
  },
  {
   "cell_type": "code",
   "execution_count": 39,
   "id": "a58aefd2-cf8a-4554-8ae2-e0220221afd6",
   "metadata": {},
   "outputs": [],
   "source": [
    "class bank_account :\n",
    "    def __init__(self , balance):\n",
    "        self.__balance = balance\n",
    "        \n",
    "    def deposite(self , amount):\n",
    "        self.__balance = self.__balance + amount\n",
    "        \n",
    "    def withdraw(self, amount):\n",
    "        if self.__balance >= amount:\n",
    "            self.__balance -= amount\n",
    "            return True\n",
    "        else:\n",
    "            return False\n",
    "\n",
    "        \n",
    "    def get_balance(self):\n",
    "        return self.__balance"
   ]
  },
  {
   "cell_type": "code",
   "execution_count": 40,
   "id": "f1d35bc7-f39f-4d20-831f-253fac264c44",
   "metadata": {},
   "outputs": [],
   "source": [
    "swap = bank_account(1000)"
   ]
  },
  {
   "cell_type": "code",
   "execution_count": 41,
   "id": "df4ef805-d4a7-48a8-a133-8f5b1f47290d",
   "metadata": {},
   "outputs": [
    {
     "data": {
      "text/plain": [
       "1000"
      ]
     },
     "execution_count": 41,
     "metadata": {},
     "output_type": "execute_result"
    }
   ],
   "source": [
    "swap.get_balance()#how much balance is available"
   ]
  },
  {
   "cell_type": "code",
   "execution_count": 42,
   "id": "105d1dd0-692b-4d09-90fd-a2dfc0b2513f",
   "metadata": {},
   "outputs": [],
   "source": [
    "swap.deposite(5000)"
   ]
  },
  {
   "cell_type": "code",
   "execution_count": 43,
   "id": "7508d656-6306-4041-9e88-80a441f025ca",
   "metadata": {},
   "outputs": [
    {
     "data": {
      "text/plain": [
       "6000"
      ]
     },
     "execution_count": 43,
     "metadata": {},
     "output_type": "execute_result"
    }
   ],
   "source": [
    "swap.get_balance()"
   ]
  },
  {
   "cell_type": "code",
   "execution_count": 44,
   "id": "49abb4ce-6f7c-479e-899e-182764c00795",
   "metadata": {},
   "outputs": [],
   "source": [
    "swap.deposite(1000)"
   ]
  },
  {
   "cell_type": "code",
   "execution_count": 45,
   "id": "c0c4dab7-14ef-43f8-ab78-fb31f3fabd29",
   "metadata": {},
   "outputs": [
    {
     "data": {
      "text/plain": [
       "7000"
      ]
     },
     "execution_count": 45,
     "metadata": {},
     "output_type": "execute_result"
    }
   ],
   "source": [
    "swap.get_balance()"
   ]
  },
  {
   "cell_type": "code",
   "execution_count": 46,
   "id": "47285dfa-aae6-4d3f-84f7-379fba5e001d",
   "metadata": {},
   "outputs": [
    {
     "data": {
      "text/plain": [
       "False"
      ]
     },
     "execution_count": 46,
     "metadata": {},
     "output_type": "execute_result"
    }
   ],
   "source": [
    "swap.withdraw(9000)"
   ]
  },
  {
   "cell_type": "code",
   "execution_count": 47,
   "id": "820e183e-2ca3-4ca3-8ef8-79339acb4820",
   "metadata": {},
   "outputs": [
    {
     "data": {
      "text/plain": [
       "True"
      ]
     },
     "execution_count": 47,
     "metadata": {},
     "output_type": "execute_result"
    }
   ],
   "source": [
    "swap.withdraw(2000)"
   ]
  },
  {
   "cell_type": "code",
   "execution_count": 48,
   "id": "920cf2e9-1c83-4a38-8755-6feb125119a3",
   "metadata": {},
   "outputs": [
    {
     "data": {
      "text/plain": [
       "5000"
      ]
     },
     "execution_count": 48,
     "metadata": {},
     "output_type": "execute_result"
    }
   ],
   "source": [
    "swap.get_balance()"
   ]
  },
  {
   "cell_type": "code",
   "execution_count": 49,
   "id": "41b76f80-6040-4d94-a2c6-1d9635298974",
   "metadata": {},
   "outputs": [],
   "source": [
    "swap.deposite(8000)"
   ]
  },
  {
   "cell_type": "code",
   "execution_count": 50,
   "id": "08637eea-07f3-49a2-834e-a7a957b629f2",
   "metadata": {},
   "outputs": [
    {
     "data": {
      "text/plain": [
       "13000"
      ]
     },
     "execution_count": 50,
     "metadata": {},
     "output_type": "execute_result"
    }
   ],
   "source": [
    "swap.get_balance()"
   ]
  },
  {
   "cell_type": "code",
   "execution_count": 51,
   "id": "568c155e-bcdd-4acd-81f2-b928970f63c5",
   "metadata": {},
   "outputs": [
    {
     "data": {
      "text/plain": [
       "True"
      ]
     },
     "execution_count": 51,
     "metadata": {},
     "output_type": "execute_result"
    }
   ],
   "source": [
    "swap.withdraw(2000)"
   ]
  },
  {
   "cell_type": "code",
   "execution_count": 52,
   "id": "854ac255-bdda-4f79-ab30-9bc0a97ce8f4",
   "metadata": {},
   "outputs": [
    {
     "data": {
      "text/plain": [
       "11000"
      ]
     },
     "execution_count": 52,
     "metadata": {},
     "output_type": "execute_result"
    }
   ],
   "source": [
    "swap.get_balance()"
   ]
  },
  {
   "cell_type": "code",
   "execution_count": null,
   "id": "649fc569-1a97-4f48-9465-df0d486bf958",
   "metadata": {},
   "outputs": [],
   "source": []
  }
 ],
 "metadata": {
  "kernelspec": {
   "display_name": "Python 3 (ipykernel)",
   "language": "python",
   "name": "python3"
  },
  "language_info": {
   "codemirror_mode": {
    "name": "ipython",
    "version": 3
   },
   "file_extension": ".py",
   "mimetype": "text/x-python",
   "name": "python",
   "nbconvert_exporter": "python",
   "pygments_lexer": "ipython3",
   "version": "3.10.8"
  }
 },
 "nbformat": 4,
 "nbformat_minor": 5
}
