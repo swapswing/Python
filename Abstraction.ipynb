{
 "cells": [
  {
   "cell_type": "code",
   "execution_count": 3,
   "id": "8b4231c9-cbc1-48d4-97fb-bd942fbcf517",
   "metadata": {},
   "outputs": [],
   "source": [
    "import abc\n",
    "class pwskills:\n",
    "    \n",
    "    @abc.abstractmethod\n",
    "    def student_details(self):\n",
    "        pass\n",
    "    \n",
    "    @abc.abstractmethod\n",
    "    def student_assignment(self):\n",
    "        pass\n",
    "    \n",
    "    @abc.abstractmethod\n",
    "    def student_marks(self):\n",
    "        pass"
   ]
  },
  {
   "cell_type": "code",
   "execution_count": 4,
   "id": "12e30d4e-f8fe-4c2b-8f85-0c59bfc838ce",
   "metadata": {},
   "outputs": [],
   "source": [
    "class student_details(pwskills):\n",
    "    def student_details(self):\n",
    "        return \"this is a method for taking students details \"\n",
    "    \n",
    "    def student_assignment(self):\n",
    "        return \"this is a method for assign details for a particular student\""
   ]
  },
  {
   "cell_type": "code",
   "execution_count": 5,
   "id": "5cbc240c-0be9-4cc1-b9be-f9df55d51279",
   "metadata": {},
   "outputs": [],
   "source": [
    "class data_science_masters(pwskills):\n",
    "    \n",
    "    def student_details(self):\n",
    "        return \"this will return a student details for dat science masters\"\n",
    "    \n",
    "    def student_assignment(self):\n",
    "        return \"this will give you a student assignment details for data science masters\""
   ]
  },
  {
   "cell_type": "code",
   "execution_count": 7,
   "id": "029d0e1e-dfa7-4529-b2b0-4192fce8adf3",
   "metadata": {},
   "outputs": [
    {
     "data": {
      "text/plain": [
       "'this will return a student details for dat science masters'"
      ]
     },
     "execution_count": 7,
     "metadata": {},
     "output_type": "execute_result"
    }
   ],
   "source": [
    "dsm = data_science_masters()\n",
    "dsm.student_details()"
   ]
  },
  {
   "cell_type": "code",
   "execution_count": 8,
   "id": "995c4545-7de1-48be-9125-66139fa45161",
   "metadata": {},
   "outputs": [
    {
     "data": {
      "text/plain": [
       "'this is a method for taking students details '"
      ]
     },
     "execution_count": 8,
     "metadata": {},
     "output_type": "execute_result"
    }
   ],
   "source": [
    "sd = student_details()\n",
    "sd.student_details()"
   ]
  },
  {
   "cell_type": "code",
   "execution_count": null,
   "id": "fc0a840c-643a-4e0c-86ca-5c73bdce3474",
   "metadata": {},
   "outputs": [],
   "source": []
  }
 ],
 "metadata": {
  "kernelspec": {
   "display_name": "Python 3 (ipykernel)",
   "language": "python",
   "name": "python3"
  },
  "language_info": {
   "codemirror_mode": {
    "name": "ipython",
    "version": 3
   },
   "file_extension": ".py",
   "mimetype": "text/x-python",
   "name": "python",
   "nbconvert_exporter": "python",
   "pygments_lexer": "ipython3",
   "version": "3.10.8"
  }
 },
 "nbformat": 4,
 "nbformat_minor": 5
}
