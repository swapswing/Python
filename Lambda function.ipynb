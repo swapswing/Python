{
 "cells": [
  {
   "cell_type": "code",
   "execution_count": 1,
   "id": "5d32e0d8-3c58-4805-91c6-7d9cd78d9a74",
   "metadata": {},
   "outputs": [],
   "source": [
    "n = 3 \n",
    "p = 2"
   ]
  },
  {
   "cell_type": "code",
   "execution_count": 2,
   "id": "a88784e4-8af4-4cdd-934a-0a277b2aeaa2",
   "metadata": {},
   "outputs": [],
   "source": [
    "def test(n,p):\n",
    "    return n**p#Squaaring"
   ]
  },
  {
   "cell_type": "code",
   "execution_count": 3,
   "id": "6b0d5906-0688-45e7-b168-2d926a8c76cc",
   "metadata": {},
   "outputs": [
    {
     "data": {
      "text/plain": [
       "9"
      ]
     },
     "execution_count": 3,
     "metadata": {},
     "output_type": "execute_result"
    }
   ],
   "source": [
    "test(3,2)"
   ]
  },
  {
   "cell_type": "code",
   "execution_count": 4,
   "id": "8ad67541-c76e-4a9e-94a9-7505b63c4b3f",
   "metadata": {},
   "outputs": [],
   "source": [
    "a = lambda n, p : n**p#one liner function or Lambda function or Anonymous Function"
   ]
  },
  {
   "cell_type": "code",
   "execution_count": null,
   "id": "f919a742-5d0a-47ba-9382-62e3bd614ebe",
   "metadata": {},
   "outputs": [
    {
     "data": {
      "text/plain": [
       "9"
      ]
     },
     "execution_count": 5,
     "metadata": {},
     "output_type": "execute_result"
    }
   ],
   "source": [
    "a(3,2)"
   ]
  },
  {
   "cell_type": "code",
   "execution_count": null,
   "id": "bf8cebea-b32e-4d2a-a7a6-0097ef054641",
   "metadata": {},
   "outputs": [],
   "source": [
    "add = lambda x,y : x+y#addition using lambda function"
   ]
  },
  {
   "cell_type": "code",
   "execution_count": null,
   "id": "75d6c449-50ee-4091-82e3-454ea0aadef6",
   "metadata": {},
   "outputs": [],
   "source": [
    "add(4,5)"
   ]
  },
  {
   "cell_type": "code",
   "execution_count": null,
   "id": "43cd6677-a209-4b5b-80c8-28b7bcfe7ef5",
   "metadata": {},
   "outputs": [],
   "source": [
    "c_to_f = lambda c: (9/5)*c + 32#celcius to Fahrenheit using lambda"
   ]
  },
  {
   "cell_type": "code",
   "execution_count": null,
   "id": "8c0d055b-25b1-45d8-91b1-a71ab06c4bee",
   "metadata": {},
   "outputs": [],
   "source": [
    "c_to_f(45)"
   ]
  },
  {
   "cell_type": "code",
   "execution_count": null,
   "id": "9f3079c2-eb5d-4130-96ea-9a1820ad3625",
   "metadata": {},
   "outputs": [],
   "source": [
    "m = lambda a,b : a*b#multiplication using lambda"
   ]
  },
  {
   "cell_type": "code",
   "execution_count": null,
   "id": "297c4547-0864-418e-bed9-e705d2e0696b",
   "metadata": {},
   "outputs": [],
   "source": [
    "m(3,4)"
   ]
  },
  {
   "cell_type": "code",
   "execution_count": null,
   "id": "6b3f4cb7-5be6-48ef-946a-ac84bc4e74f6",
   "metadata": {},
   "outputs": [],
   "source": [
    "finding_max = lambda x,y : x if x>y else y#maximum number using lambda funnction"
   ]
  },
  {
   "cell_type": "code",
   "execution_count": null,
   "id": "7ace4e6b-cd77-46b3-b22b-4590f82f4012",
   "metadata": {},
   "outputs": [],
   "source": [
    "finding_max(5,22)"
   ]
  },
  {
   "cell_type": "code",
   "execution_count": null,
   "id": "c0a23fe2-171a-4860-9809-1d6f9a7bf741",
   "metadata": {},
   "outputs": [],
   "source": [
    "s = \"pwskills\""
   ]
  },
  {
   "cell_type": "code",
   "execution_count": null,
   "id": "bf55df3b-2aa1-45ba-90dc-5e90365fdbe9",
   "metadata": {},
   "outputs": [],
   "source": [
    "find_len = lambda s : len(s)#finding length of above string"
   ]
  },
  {
   "cell_type": "code",
   "execution_count": null,
   "id": "447a47ef-fc4c-4340-959c-3425636945e0",
   "metadata": {},
   "outputs": [],
   "source": [
    "find_len(s)"
   ]
  }
 ],
 "metadata": {
  "kernelspec": {
   "display_name": "Python 3 (ipykernel)",
   "language": "python",
   "name": "python3"
  },
  "language_info": {
   "codemirror_mode": {
    "name": "ipython",
    "version": 3
   },
   "file_extension": ".py",
   "mimetype": "text/x-python",
   "name": "python",
   "nbconvert_exporter": "python",
   "pygments_lexer": "ipython3",
   "version": "3.10.8"
  }
 },
 "nbformat": 4,
 "nbformat_minor": 5
}
