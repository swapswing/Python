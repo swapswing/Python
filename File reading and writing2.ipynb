{
 "cells": [
  {
   "cell_type": "code",
   "execution_count": 1,
   "id": "d75442f4-5da9-4fe8-b3b0-7577eb46fe10",
   "metadata": {},
   "outputs": [],
   "source": [
    "#dictionary dataset /json(javascript object notation) dataset(key-value pairs)\n",
    "data = {\n",
    "    \"name\" : \"swap\",\n",
    "    \"mail_id\" : \"swap@gmail.com\",\n",
    "    \"phone number\" : 9876543245,\n",
    "    \"subject\" : [\"data science\", \"big data\",\"data analytics\"]\n",
    "}"
   ]
  },
  {
   "cell_type": "code",
   "execution_count": 2,
   "id": "e5796cab-4579-44c7-81af-b7c5308baa2e",
   "metadata": {},
   "outputs": [],
   "source": [
    "import json"
   ]
  },
  {
   "cell_type": "code",
   "execution_count": 3,
   "id": "688376da-397f-4400-b9c0-e89357a77a0d",
   "metadata": {},
   "outputs": [],
   "source": [
    "with open(\"data.json\" , \"w\") as f:#creating a json file and performing write operation using dump\n",
    "    json.dump(data , f)"
   ]
  },
  {
   "cell_type": "code",
   "execution_count": 4,
   "id": "f6b8af5a-68ef-4401-b32e-0625aa9a0176",
   "metadata": {},
   "outputs": [],
   "source": [
    "with open(\"data.json\" , \"r\") as f:#reading json file and performing read operation using load\n",
    "    data1 = json.load(f)"
   ]
  },
  {
   "cell_type": "code",
   "execution_count": 5,
   "id": "15a2ede5-8f61-4cb8-8061-cae4d48cbc73",
   "metadata": {},
   "outputs": [
    {
     "data": {
      "text/plain": [
       "{'name': 'swap',\n",
       " 'mail_id': 'swap@gmail.com',\n",
       " 'phone number': 9876543245,\n",
       " 'subject': ['data science', 'big data', 'data analytics']}"
      ]
     },
     "execution_count": 5,
     "metadata": {},
     "output_type": "execute_result"
    }
   ],
   "source": [
    "data1#opening content in data1"
   ]
  },
  {
   "cell_type": "code",
   "execution_count": 6,
   "id": "264181f3-e3ec-44cd-9800-4ff3ce8663c9",
   "metadata": {},
   "outputs": [
    {
     "data": {
      "text/plain": [
       "'big data'"
      ]
     },
     "execution_count": 6,
     "metadata": {},
     "output_type": "execute_result"
    }
   ],
   "source": [
    "data1['subject'][1]#extracting big data from dictionary"
   ]
  },
  {
   "cell_type": "code",
   "execution_count": 7,
   "id": "037135a8-3a05-419b-afe7-8eb86d9f2442",
   "metadata": {},
   "outputs": [],
   "source": [
    "import csv #comma separated value files"
   ]
  },
  {
   "cell_type": "code",
   "execution_count": 14,
   "id": "a0b9df4f-c08c-40f8-9365-f2b8f68c603b",
   "metadata": {},
   "outputs": [],
   "source": [
    "#creating csv(commma separated value) file\n",
    "data = [ \n",
    "        [\"name\" , \"email_id\",\"phone_number\"],\n",
    "        [\"swap\" , \"swap@gmail.com\",9876543223],\n",
    "        [\"krish\" , \"krishh@gmail.com\",7654345678]\n",
    "]"
   ]
  },
  {
   "cell_type": "code",
   "execution_count": 15,
   "id": "ef25790a-86f9-40f8-a132-4112ae42ca60",
   "metadata": {},
   "outputs": [],
   "source": [
    "with open(\"data.csv\" , \"w\") as f:\n",
    "    writer = csv.writer(f)\n",
    "\n",
    "    for i in data :\n",
    "        writer.writerow(i)"
   ]
  },
  {
   "cell_type": "code",
   "execution_count": 16,
   "id": "b97c73e4-1d6f-4a07-a363-42c5f78062cb",
   "metadata": {},
   "outputs": [
    {
     "name": "stdout",
     "output_type": "stream",
     "text": [
      "['name', 'email_id', 'phone_number']\n",
      "[]\n",
      "['swap', 'swap@gmail.com', '9876543223']\n",
      "[]\n",
      "['krish', 'krishh@gmail.com', '7654345678']\n",
      "[]\n"
     ]
    }
   ],
   "source": [
    "#reading csv file\n",
    "with open(\"data.csv\" , \"r\") as f:\n",
    "    read_data = csv.reader(f)\n",
    "\n",
    "    for i in read_data:\n",
    "        print(i)"
   ]
  },
  {
   "cell_type": "code",
   "execution_count": 18,
   "id": "ce8980c0-bae4-46e9-a243-70e75ed9417e",
   "metadata": {},
   "outputs": [],
   "source": [
    "# creating binary file\n",
    "with open(\"test.bin\" ,\"wb\") as f:#wb=write binary\n",
    "    f.write(b\"\\x01\\x02\\x03\\x035467654\")"
   ]
  },
  {
   "cell_type": "code",
   "execution_count": 21,
   "id": "d2e6e672-f339-474c-a448-d985d9aeaec9",
   "metadata": {},
   "outputs": [
    {
     "name": "stdout",
     "output_type": "stream",
     "text": [
      "b'\\x01\\x02\\x03\\x035467654'\n"
     ]
    }
   ],
   "source": [
    "#reading binary file\n",
    "with open(\"test.bin\" , \"rb\") as f: #rb= read binary\n",
    "    print(f.read())#printing data that we have written above"
   ]
  },
  {
   "cell_type": "code",
   "execution_count": null,
   "id": "d72fff40-e56c-463c-b2d0-9a439145903b",
   "metadata": {},
   "outputs": [],
   "source": []
  }
 ],
 "metadata": {
  "kernelspec": {
   "display_name": "Python 3 (ipykernel)",
   "language": "python",
   "name": "python3"
  },
  "language_info": {
   "codemirror_mode": {
    "name": "ipython",
    "version": 3
   },
   "file_extension": ".py",
   "mimetype": "text/x-python",
   "name": "python",
   "nbconvert_exporter": "python",
   "pygments_lexer": "ipython3",
   "version": "3.11.7"
  }
 },
 "nbformat": 4,
 "nbformat_minor": 5
}
