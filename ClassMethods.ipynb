{
 "cells": [
  {
   "cell_type": "code",
   "execution_count": 1,
   "id": "b0fece23-5010-4927-a87c-d7a6cfa4f028",
   "metadata": {},
   "outputs": [],
   "source": [
    "class pwskills :\n",
    "    \n",
    "    def __init__(self , name , email):\n",
    "        \n",
    "        self.name = name \n",
    "        self.email = email\n",
    "        \n",
    "    def students_details(self):\n",
    "        print(self.name , self.email)"
   ]
  },
  {
   "cell_type": "code",
   "execution_count": 2,
   "id": "032f4efb-da89-4b92-ae40-8f2412a5f836",
   "metadata": {},
   "outputs": [],
   "source": [
    "pw = pwskills(\"mohan\" ,\"mohan@gmail.com\")"
   ]
  },
  {
   "cell_type": "code",
   "execution_count": 3,
   "id": "88b5934c-34ba-47ba-9ccc-6ca0419922e5",
   "metadata": {},
   "outputs": [
    {
     "data": {
      "text/plain": [
       "'mohan'"
      ]
     },
     "execution_count": 3,
     "metadata": {},
     "output_type": "execute_result"
    }
   ],
   "source": [
    "pw.name"
   ]
  },
  {
   "cell_type": "code",
   "execution_count": 5,
   "id": "37208554-97d5-4e0a-bae0-4dc54f4efcd7",
   "metadata": {},
   "outputs": [
    {
     "data": {
      "text/plain": [
       "'mohan@gmail.com'"
      ]
     },
     "execution_count": 5,
     "metadata": {},
     "output_type": "execute_result"
    }
   ],
   "source": [
    "pw.email"
   ]
  },
  {
   "cell_type": "code",
   "execution_count": 7,
   "id": "a8fa0d36-8865-4e63-8e2e-2f52a8e5ccce",
   "metadata": {},
   "outputs": [
    {
     "name": "stdout",
     "output_type": "stream",
     "text": [
      "mohan mohan@gmail.com\n"
     ]
    }
   ],
   "source": [
    "pw.students_details()"
   ]
  },
  {
   "cell_type": "code",
   "execution_count": 8,
   "id": "6890c162-dd84-4267-8a81-8fc96c70a59c",
   "metadata": {},
   "outputs": [],
   "source": [
    "class pwskills1 :\n",
    "    \n",
    "    def __init__(self , name , email):\n",
    "        \n",
    "        self.name = name \n",
    "        self.email = email\n",
    "     \n",
    "    @classmethod#already avialable in python\n",
    "    def details(cls , name , email ):\n",
    "        return cls(name , email)\n",
    "        \n",
    "    def students_details(self):\n",
    "        print(self.name , self.email)"
   ]
  },
  {
   "cell_type": "code",
   "execution_count": 12,
   "id": "db051eda-061e-4e13-8ca2-f46844c59e78",
   "metadata": {},
   "outputs": [],
   "source": [
    "pw1 = pwskills1.details(\"swap\", \"swap@gmail.com\")"
   ]
  },
  {
   "cell_type": "code",
   "execution_count": 13,
   "id": "85cd14be-57bb-47d0-9ce7-ba48c158c998",
   "metadata": {},
   "outputs": [
    {
     "data": {
      "text/plain": [
       "'swap'"
      ]
     },
     "execution_count": 13,
     "metadata": {},
     "output_type": "execute_result"
    }
   ],
   "source": [
    "pw1.name"
   ]
  },
  {
   "cell_type": "code",
   "execution_count": 14,
   "id": "196119c9-73be-4ecb-bc0c-7c1d4f739701",
   "metadata": {},
   "outputs": [
    {
     "data": {
      "text/plain": [
       "'swap@gmail.com'"
      ]
     },
     "execution_count": 14,
     "metadata": {},
     "output_type": "execute_result"
    }
   ],
   "source": [
    "pw1.email"
   ]
  },
  {
   "cell_type": "code",
   "execution_count": 16,
   "id": "e0e29f84-b09d-4ee1-8356-2e1da99f625c",
   "metadata": {},
   "outputs": [
    {
     "name": "stdout",
     "output_type": "stream",
     "text": [
      "swap swap@gmail.com\n"
     ]
    }
   ],
   "source": [
    "pw1.students_details()"
   ]
  },
  {
   "cell_type": "code",
   "execution_count": 29,
   "id": "7d56418f-af38-49f6-abc6-42445dedaea3",
   "metadata": {},
   "outputs": [],
   "source": [
    "class pwskills2 :\n",
    "    \n",
    "    mobile_num = 912342424\n",
    "    \n",
    "    def __init__(self , name , email):\n",
    "        \n",
    "        self.name = name \n",
    "        self.email = email\n",
    "    \n",
    "    @classmethod#overloading init using class method\n",
    "    def change_number(cls , mobile):\n",
    "        pwskills2.mobile_num = mobile\n",
    "     \n",
    "    @classmethod#already avialable in python\n",
    "    def details(cls , name , email ):\n",
    "        return cls(name , email)\n",
    "        \n",
    "    def students_details(self):\n",
    "        print(self.name , self.email, pwskills2.mobile_num)"
   ]
  },
  {
   "cell_type": "code",
   "execution_count": 32,
   "id": "25fa0ac1-1a73-4352-8698-93e62d04d04f",
   "metadata": {},
   "outputs": [],
   "source": [
    "pw = pwskills2.details(\"rohan\" , \"rohan@gmail.com\")"
   ]
  },
  {
   "cell_type": "code",
   "execution_count": 33,
   "id": "804c269d-0c35-4236-91c2-50fd78792ac3",
   "metadata": {},
   "outputs": [
    {
     "name": "stdout",
     "output_type": "stream",
     "text": [
      "rohan rohan@gmail.com 912342424\n"
     ]
    }
   ],
   "source": [
    "pw.students_details()"
   ]
  },
  {
   "cell_type": "code",
   "execution_count": 30,
   "id": "a8f75f0e-5cdc-4c8a-96f1-19d03af1204f",
   "metadata": {},
   "outputs": [],
   "source": [
    "pw_obj = pwskills2(\"swap\" , \"swap@gmail.com\")"
   ]
  },
  {
   "cell_type": "code",
   "execution_count": 31,
   "id": "5ec7bffd-f39e-4d24-ac68-f0ec0ba7fad5",
   "metadata": {},
   "outputs": [
    {
     "name": "stdout",
     "output_type": "stream",
     "text": [
      "swap swap@gmail.com 912342424\n"
     ]
    }
   ],
   "source": [
    "pw_obj.students_details()"
   ]
  },
  {
   "cell_type": "code",
   "execution_count": 27,
   "id": "30362325-f776-4229-a2a0-06f4e9c52b34",
   "metadata": {},
   "outputs": [],
   "source": [
    "pwskills2.change_number(98654387)"
   ]
  },
  {
   "cell_type": "code",
   "execution_count": 24,
   "id": "16fc898e-3fc6-4b64-92e1-5980b553211f",
   "metadata": {},
   "outputs": [
    {
     "data": {
      "text/plain": [
       "98654387"
      ]
     },
     "execution_count": 24,
     "metadata": {},
     "output_type": "execute_result"
    }
   ],
   "source": [
    "pwskills2.mobile_num"
   ]
  },
  {
   "cell_type": "code",
   "execution_count": 34,
   "id": "a702999c-a08e-490b-880b-dfbcacf0bd83",
   "metadata": {},
   "outputs": [],
   "source": [
    "class pwskills3 :\n",
    "    \n",
    "    mobile_num = 912342424\n",
    "    \n",
    "    def __init__(self , name , email):\n",
    "        \n",
    "        self.name = name \n",
    "        self.email = email\n",
    "    \n",
    "    @classmethod#overloading init using class method\n",
    "    def change_number(cls , mobile):\n",
    "        pwskills2.mobile_num = mobile\n",
    "     \n",
    "    @classmethod#already avialable in python\n",
    "    def details(cls , name , email ):\n",
    "        return cls(name , email)\n",
    "        \n",
    "    def students_details(self):\n",
    "        print(self.name , self.email, pwskills2.mobile_num)"
   ]
  },
  {
   "cell_type": "code",
   "execution_count": 35,
   "id": "431d31a9-3b0f-4ba2-8ada-1cef65976df7",
   "metadata": {},
   "outputs": [],
   "source": [
    "def course_details(cls, course_name):\n",
    "    print(\"course name is \" , course_name)"
   ]
  },
  {
   "cell_type": "code",
   "execution_count": 37,
   "id": "d87430dd-da63-4fe3-b5eb-c3770759ef4e",
   "metadata": {},
   "outputs": [],
   "source": [
    "pwskills3.course_details = classmethod(course_details)#adding outsider function inside the class using classmethod"
   ]
  },
  {
   "cell_type": "code",
   "execution_count": 38,
   "id": "89d7b901-9c27-4bb6-8447-344508b8d071",
   "metadata": {},
   "outputs": [
    {
     "name": "stdout",
     "output_type": "stream",
     "text": [
      "course name is  data science masters\n"
     ]
    }
   ],
   "source": [
    "pwskills3.course_details(\"data science masters\")"
   ]
  },
  {
   "cell_type": "code",
   "execution_count": 42,
   "id": "c8c34451-5fdf-41ce-9325-32e078f79d93",
   "metadata": {},
   "outputs": [],
   "source": [
    "def mentor(cls, list_of_mentor):\n",
    "    print(list_of_mentor)"
   ]
  },
  {
   "cell_type": "code",
   "execution_count": 43,
   "id": "d02e667a-a742-40b5-8cb3-fc2febee3e33",
   "metadata": {},
   "outputs": [],
   "source": [
    "pwskills3.mentor = classmethod(mentor)"
   ]
  },
  {
   "cell_type": "code",
   "execution_count": 44,
   "id": "3f35dae2-44d2-41ad-8f5c-16fef6cfc50d",
   "metadata": {},
   "outputs": [
    {
     "name": "stdout",
     "output_type": "stream",
     "text": [
      "['swapnil', 'amey shewale']\n"
     ]
    }
   ],
   "source": [
    "pwskills3.mentor([\"swapnil\" , \"amey shewale\"])"
   ]
  },
  {
   "cell_type": "code",
   "execution_count": 56,
   "id": "d98b67db-560b-4148-b4fd-65a10f6d8f61",
   "metadata": {},
   "outputs": [],
   "source": [
    "class pwskills4 :\n",
    "    \n",
    "    mobile_num = 912342424\n",
    "    \n",
    "    def __init__(self , name , email):\n",
    "        \n",
    "        self.name = name \n",
    "        self.email = email\n",
    "    \n",
    "    @classmethod#overloading init using class method\n",
    "    def change_number(cls , mobile):\n",
    "        pwskills2.mobile_num = mobile\n",
    "     \n",
    "    @classmethod#already avialable in python\n",
    "    def details(cls , name , email ):\n",
    "        return cls(name , email)\n",
    "        \n",
    "    def students_details(self):\n",
    "        print(self.name , self.email, pwskills2.mobile_num)"
   ]
  },
  {
   "cell_type": "code",
   "execution_count": 57,
   "id": "a96010cc-13f4-4652-b925-9b4c3b078292",
   "metadata": {},
   "outputs": [],
   "source": [
    "del pwskills4.change_number#deleting function"
   ]
  },
  {
   "cell_type": "code",
   "execution_count": 58,
   "id": "d3eb121c-d774-4879-a29f-d6c575f99b6f",
   "metadata": {},
   "outputs": [],
   "source": [
    "delattr(pwskills4 , \"details\")#another method to delete functions using delete attribute"
   ]
  },
  {
   "cell_type": "code",
   "execution_count": 59,
   "id": "896e784e-daf6-4dc0-9f51-b566f0b300a8",
   "metadata": {},
   "outputs": [
    {
     "ename": "AttributeError",
     "evalue": "type object 'pwskills4' has no attribute 'change_number'",
     "output_type": "error",
     "traceback": [
      "\u001b[0;31m---------------------------------------------------------------------------\u001b[0m",
      "\u001b[0;31mAttributeError\u001b[0m                            Traceback (most recent call last)",
      "Cell \u001b[0;32mIn[59], line 1\u001b[0m\n\u001b[0;32m----> 1\u001b[0m \u001b[43mpwskills4\u001b[49m\u001b[38;5;241;43m.\u001b[39;49m\u001b[43mchange_number\u001b[49m(\u001b[38;5;241m21345678\u001b[39m)\n",
      "\u001b[0;31mAttributeError\u001b[0m: type object 'pwskills4' has no attribute 'change_number'"
     ]
    }
   ],
   "source": [
    "pwskills4.change_number(21345678)"
   ]
  },
  {
   "cell_type": "code",
   "execution_count": 60,
   "id": "743c2b29-b67e-4480-a87d-cc4825f6476b",
   "metadata": {},
   "outputs": [],
   "source": [
    "delattr(pwskills4 , \"students_details\")"
   ]
  },
  {
   "cell_type": "code",
   "execution_count": 61,
   "id": "5ec2c5ec-5504-4715-8344-a6f05c56eb67",
   "metadata": {},
   "outputs": [],
   "source": [
    "delattr(pwskills4 , \"mobile_num\")#deleting variable using delattr"
   ]
  },
  {
   "cell_type": "code",
   "execution_count": null,
   "id": "ca02c0fe-25e9-4a79-923c-cb06214d341d",
   "metadata": {},
   "outputs": [],
   "source": []
  }
 ],
 "metadata": {
  "kernelspec": {
   "display_name": "Python 3 (ipykernel)",
   "language": "python",
   "name": "python3"
  },
  "language_info": {
   "codemirror_mode": {
    "name": "ipython",
    "version": 3
   },
   "file_extension": ".py",
   "mimetype": "text/x-python",
   "name": "python",
   "nbconvert_exporter": "python",
   "pygments_lexer": "ipython3",
   "version": "3.10.8"
  }
 },
 "nbformat": 4,
 "nbformat_minor": 5
}
