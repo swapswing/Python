{
 "cells": [
  {
   "cell_type": "code",
   "execution_count": 1,
   "id": "41ceb0e4-891c-4013-b45b-ec292e6550dd",
   "metadata": {},
   "outputs": [
    {
     "name": "stdout",
     "output_type": "stream",
     "text": [
      "division by zero\n"
     ]
    }
   ],
   "source": [
    "#use always specific exception\n",
    "try :\n",
    "    10/0\n",
    "except Exception as e :\n",
    "    print(e)"
   ]
  },
  {
   "cell_type": "code",
   "execution_count": 2,
   "id": "5e602d92-d042-4256-abd7-82e70da1acb4",
   "metadata": {},
   "outputs": [
    {
     "name": "stdout",
     "output_type": "stream",
     "text": [
      "division by zero\n"
     ]
    }
   ],
   "source": [
    "#use always specific exception\n",
    "try :\n",
    "    10/0\n",
    "except ZeroDivisionError as e :\n",
    "    print(e)"
   ]
  },
  {
   "cell_type": "code",
   "execution_count": 4,
   "id": "018b7284-b40a-4184-81aa-1496665cc0c0",
   "metadata": {},
   "outputs": [
    {
     "name": "stdout",
     "output_type": "stream",
     "text": [
      "i am trying to handle a zerodivision error division by zero\n"
     ]
    }
   ],
   "source": [
    "#print always a proper message\n",
    "try :\n",
    "    10/0\n",
    "except ZeroDivisionError as e:\n",
    "    print(\"i am trying to handle a zerodivision error\"  ,e)"
   ]
  },
  {
   "cell_type": "code",
   "execution_count": 5,
   "id": "d0718112-c87d-45bd-a038-67166e6e657e",
   "metadata": {},
   "outputs": [],
   "source": [
    "#always try to log your error\n",
    "import logging\n",
    "logging.basicConfig(filename = \"error.log\" , level = logging.ERROR)\n",
    "try :\n",
    "    10/0\n",
    "except ZeroDivisionError as e:\n",
    "    logging.error(\"i am trying to handle a zerodivision error {}\".format(e))"
   ]
  },
  {
   "cell_type": "code",
   "execution_count": 8,
   "id": "74243d12-bbfa-4358-80f4-23776b778463",
   "metadata": {},
   "outputs": [],
   "source": [
    "#always avoid to write a multiple exception handling\n",
    "try :\n",
    "    10/0\n",
    "except FileNotFoundError as e :\n",
    "    logging.error(\"i am handling file not found {}\".format(e) )\n",
    "except AttributeError as e :\n",
    "    logging.error(\"i am handling Attribute error {}\".format(e) )\n",
    "except ZeroDivisionError as e :\n",
    "    logging.error(\"i am trying to handle a zerodivision error {}\".format(e))"
   ]
  },
  {
   "cell_type": "code",
   "execution_count": 9,
   "id": "21042f28-23b1-4ed5-86d1-1d0c05c71449",
   "metadata": {},
   "outputs": [],
   "source": [
    "#Document all the error\n",
    "#cleanup all the resources\n",
    "try :\n",
    "    with open(\"test.txt\" , 'w') as f :\n",
    "        f.write(\"this is my data to file\")\n",
    "except FileNotFoundError as e :\n",
    "    logging.error(\"i am handling file not found {}\".format(e) )\n",
    "finally :\n",
    "    f.close()"
   ]
  },
  {
   "cell_type": "code",
   "execution_count": null,
   "id": "1b30da18-0156-45f9-9edc-fa15d53ef5cf",
   "metadata": {},
   "outputs": [],
   "source": []
  }
 ],
 "metadata": {
  "kernelspec": {
   "display_name": "Python 3 (ipykernel)",
   "language": "python",
   "name": "python3"
  },
  "language_info": {
   "codemirror_mode": {
    "name": "ipython",
    "version": 3
   },
   "file_extension": ".py",
   "mimetype": "text/x-python",
   "name": "python",
   "nbconvert_exporter": "python",
   "pygments_lexer": "ipython3",
   "version": "3.11.7"
  }
 },
 "nbformat": 4,
 "nbformat_minor": 5
}
