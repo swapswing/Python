{
 "cells": [
  {
   "cell_type": "code",
   "execution_count": 1,
   "id": "73f774c4-26e6-4484-97c8-dd4e947aa44a",
   "metadata": {},
   "outputs": [
    {
     "name": "stdout",
     "output_type": "stream",
     "text": [
      "this is my print\n"
     ]
    }
   ],
   "source": [
    "print(\"this is my print\")"
   ]
  },
  {
   "cell_type": "markdown",
   "id": "0193f1c5-5725-4b0d-8a30-e44675f0d20b",
   "metadata": {},
   "source": [
    "# To Store permanant data(not in console) we use Logging Module"
   ]
  },
  {
   "cell_type": "code",
   "execution_count": 2,
   "id": "05ca99c4-2dbb-44ed-9550-7c5d041db923",
   "metadata": {},
   "outputs": [],
   "source": [
    "import logging"
   ]
  },
  {
   "cell_type": "code",
   "execution_count": 3,
   "id": "3d8eff73-7e55-43cd-b014-54ca3f268129",
   "metadata": {},
   "outputs": [],
   "source": [
    "logging.basicConfig(filename = \"test.log\" , level = logging.INFO)#info ke niche wale sare labels run hoge, info ke uparwale run nahi hoge "
   ]
  },
  {
   "cell_type": "code",
   "execution_count": 4,
   "id": "fc77881d-ba79-46eb-8d50-9dbd6ac57a12",
   "metadata": {},
   "outputs": [],
   "source": [
    "logging.info(\"log this line of execution\")"
   ]
  },
  {
   "cell_type": "code",
   "execution_count": 5,
   "id": "2a6fdffd-9ece-4f03-adea-ea8db64313a0",
   "metadata": {},
   "outputs": [],
   "source": [
    "logging.info(\"this is my print\")"
   ]
  },
  {
   "cell_type": "code",
   "execution_count": 6,
   "id": "141cac6b-ef23-4a95-802a-7dce0852ac0a",
   "metadata": {},
   "outputs": [],
   "source": [
    "logging.debug(\"this is my msg\")"
   ]
  },
  {
   "cell_type": "code",
   "execution_count": 7,
   "id": "91bca857-1750-4fd3-a78c-ef03b162b483",
   "metadata": {},
   "outputs": [],
   "source": [
    "logging.warning(\"This is my warning msg\")"
   ]
  },
  {
   "cell_type": "code",
   "execution_count": 8,
   "id": "be5ca902-2d35-492e-93f0-f6aec082025c",
   "metadata": {},
   "outputs": [],
   "source": [
    "logging.error(\"this is my error\")"
   ]
  },
  {
   "cell_type": "code",
   "execution_count": 9,
   "id": "6678849f-13d9-40f0-bd6b-cea874b65d08",
   "metadata": {},
   "outputs": [],
   "source": [
    "logging.critical(\"this is my critical\")"
   ]
  },
  {
   "cell_type": "code",
   "execution_count": 20,
   "id": "45fed64b-df37-4b2b-bb9e-43f0026d77f1",
   "metadata": {},
   "outputs": [],
   "source": [
    "logging.shutdown()"
   ]
  },
  {
   "cell_type": "code",
   "execution_count": 11,
   "id": "b7529ff9-3e50-4caf-bd5d-8082f2369060",
   "metadata": {},
   "outputs": [
    {
     "data": {
      "text/plain": [
       "'Labels in logging\\n1.NOTSET\\n2.DEBUG\\n3.INFO\\n4.WARNING\\n5.ERROR\\n6.CRITICAL'"
      ]
     },
     "execution_count": 11,
     "metadata": {},
     "output_type": "execute_result"
    }
   ],
   "source": [
    "'''Labels in logging\n",
    "1.NOTSET\n",
    "2.DEBUG\n",
    "3.INFO\n",
    "4.WARNING\n",
    "5.ERROR\n",
    "6.CRITICAL'''"
   ]
  },
  {
   "cell_type": "code",
   "execution_count": 1,
   "id": "0aef2ca0-c128-480b-831a-f45e0582de81",
   "metadata": {},
   "outputs": [],
   "source": [
    "import logging"
   ]
  },
  {
   "cell_type": "code",
   "execution_count": 6,
   "id": "c8d54ad9-b761-40c2-abb1-cf5bf6b32968",
   "metadata": {},
   "outputs": [],
   "source": [
    "logging.basicConfig(filename = \"test1.log\" , level = logging.DEBUG , format = '%(asctime)s %(message)s')"
   ]
  },
  {
   "cell_type": "code",
   "execution_count": 7,
   "id": "d4d8ee0a-c343-4f06-8b1c-6e019b7b64bb",
   "metadata": {},
   "outputs": [],
   "source": [
    "logging.info(\"This is my info logging\")\n",
    "logging.error(\"This is my error msg\")\n",
    "logging.critical(\"This is my critical\")"
   ]
  },
  {
   "cell_type": "code",
   "execution_count": 8,
   "id": "f7af389f-869e-4447-b975-0a97158bfba6",
   "metadata": {},
   "outputs": [],
   "source": [
    "logging.shutdown()"
   ]
  },
  {
   "cell_type": "code",
   "execution_count": 2,
   "id": "7c7b2651-28a3-4170-b600-54e300362350",
   "metadata": {},
   "outputs": [],
   "source": [
    "logging.basicConfig(filename = \"test2.log\" , level = logging.DEBUG , format = '%(asctime)s %(name)s %(levelname)s %(message)s')"
   ]
  },
  {
   "cell_type": "code",
   "execution_count": 3,
   "id": "7e1e5a99-38f3-4713-b772-c662623dba23",
   "metadata": {},
   "outputs": [],
   "source": [
    "logging.info(\"This is my info logging\")\n",
    "logging.error(\"This is my error msg\")\n",
    "logging.critical(\"This is my critical\")"
   ]
  },
  {
   "cell_type": "code",
   "execution_count": 5,
   "id": "7dda0708-2fd9-49a7-8ce6-80a57efc6c6c",
   "metadata": {},
   "outputs": [],
   "source": [
    "l = [1,2,3,34,4,[2,3,4],\"Raju\",\"Rakesh\"]"
   ]
  },
  {
   "cell_type": "code",
   "execution_count": 11,
   "id": "c9d78e83-3dc1-43fb-8b47-35d2740e0861",
   "metadata": {},
   "outputs": [],
   "source": [
    "l1_int = []\n",
    "l2_str = []\n",
    "for i in l:\n",
    "    logging.info(\"we are iterating through our local variable i\" + str(l))\n",
    "    if type(i) == list :\n",
    "        logging.info(\"i am inside if statement and i am trying to  check list type\" + str(i))\n",
    "        for j in i:\n",
    "            logging.info(\"i am in another loop for list inside list element\" + str(j))\n",
    "            if type(j) == int :\n",
    "                logging.info(\"i am inside if statement\")\n",
    "                l1_int.append(j)\n",
    "    elif type(i) == int :\n",
    "        l1_int.append(i)\n",
    "    else :\n",
    "        if type(i) == str :\n",
    "            l2_str.append(i)"
   ]
  },
  {
   "cell_type": "code",
   "execution_count": 7,
   "id": "1cb81156-8b64-4a37-a314-28fe1d5be99c",
   "metadata": {},
   "outputs": [
    {
     "data": {
      "text/plain": [
       "[1, 2, 3, 34, 4, 2, 3, 4]"
      ]
     },
     "execution_count": 7,
     "metadata": {},
     "output_type": "execute_result"
    }
   ],
   "source": [
    " l1_int"
   ]
  },
  {
   "cell_type": "code",
   "execution_count": 8,
   "id": "016ef898-aca4-416f-a660-f6a25f819631",
   "metadata": {},
   "outputs": [
    {
     "data": {
      "text/plain": [
       "['Raju', 'Rakesh']"
      ]
     },
     "execution_count": 8,
     "metadata": {},
     "output_type": "execute_result"
    }
   ],
   "source": [
    "l2_str"
   ]
  },
  {
   "cell_type": "code",
   "execution_count": 12,
   "id": "216de406-d17d-4d33-a271-ba59da9e8cef",
   "metadata": {},
   "outputs": [],
   "source": [
    "#using Placeholder{}\n",
    "l1_int = []\n",
    "l2_str = []\n",
    "for i in l:\n",
    "    logging.info(\"we are iterating through our local variable {}\".format(l) )\n",
    "    if type(i) == list :\n",
    "        logging.info(\"i am inside if statement and i am trying to  check list type\" + str(i))\n",
    "        for j in i:\n",
    "            logging.info(\"i am in another loop for list inside list element\" + str(j))\n",
    "            if type(j) == int :\n",
    "                logging.info(\"i am inside if statement\")\n",
    "                l1_int.append(j)\n",
    "    elif type(i) == int :\n",
    "        l1_int.append(i)\n",
    "    else :\n",
    "        if type(i) == str :\n",
    "            l2_str.append(i)\n",
    "logging.info(\"my final result for int is {l1} and str id {l2}\".format(l1 = l1_int , l2 = l2_str))"
   ]
  },
  {
   "cell_type": "code",
   "execution_count": null,
   "id": "6c448a0d-1781-4c31-9dfd-233441316b49",
   "metadata": {},
   "outputs": [],
   "source": []
  }
 ],
 "metadata": {
  "kernelspec": {
   "display_name": "Python 3 (ipykernel)",
   "language": "python",
   "name": "python3"
  },
  "language_info": {
   "codemirror_mode": {
    "name": "ipython",
    "version": 3
   },
   "file_extension": ".py",
   "mimetype": "text/x-python",
   "name": "python",
   "nbconvert_exporter": "python",
   "pygments_lexer": "ipython3",
   "version": "3.11.7"
  }
 },
 "nbformat": 4,
 "nbformat_minor": 5
}
