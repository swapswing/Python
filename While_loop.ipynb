{
 "cells": [
  {
   "cell_type": "code",
   "execution_count": 1,
   "id": "f003ecc9-54e6-44df-bacd-c652a4b220f0",
   "metadata": {},
   "outputs": [
    {
     "name": "stdout",
     "output_type": "stream",
     "text": [
      "1\n",
      "2\n",
      "3\n",
      "4\n",
      "5\n",
      "6\n",
      "7\n",
      "8\n",
      "9\n",
      "10\n"
     ]
    }
   ],
   "source": [
    "a = 1\n",
    "\n",
    "while a <=10:\n",
    "    print(a)#body of while loop and next line also\n",
    "    a= a+1"
   ]
  },
  {
   "cell_type": "markdown",
   "id": "97cea4b8-b42d-431d-8c81-bc974fba6107",
   "metadata": {},
   "source": [
    "#sum up the number till some point"
   ]
  },
  {
   "cell_type": "code",
   "execution_count": 4,
   "id": "588ef202-3e94-4669-9149-2209ea74cf0b",
   "metadata": {},
   "outputs": [
    {
     "name": "stdin",
     "output_type": "stream",
     "text": [
      "Enter your limit 5\n"
     ]
    },
    {
     "data": {
      "text/plain": [
       "15"
      ]
     },
     "execution_count": 4,
     "metadata": {},
     "output_type": "execute_result"
    }
   ],
   "source": [
    "n= int(input(\"Enter your limit\"))\n",
    "starting_point = 0\n",
    "counter = 1\n",
    "\n",
    "while counter <= n:\n",
    "    starting_point = starting_point + counter\n",
    "    counter = counter + 1\n",
    "starting_point#printing the sum of numbers in starting point "
   ]
  },
  {
   "cell_type": "markdown",
   "id": "2364ac9d-16ba-46f8-ac5e-ae7517ebd093",
   "metadata": {},
   "source": [
    "#Factorial of numbers"
   ]
  },
  {
   "cell_type": "code",
   "execution_count": 5,
   "id": "3dc99ede-f450-425d-8916-88fecbc441c7",
   "metadata": {},
   "outputs": [
    {
     "name": "stdin",
     "output_type": "stream",
     "text": [
      "Enter your number 5\n"
     ]
    },
    {
     "data": {
      "text/plain": [
       "120"
      ]
     },
     "execution_count": 5,
     "metadata": {},
     "output_type": "execute_result"
    }
   ],
   "source": [
    "number = int(input(\"Enter your number\"))\n",
    "factorial = 1\n",
    "while number > 0:\n",
    "    factorial = factorial * number\n",
    "    number = number - 1\n",
    "factorial#printing the stored value"
   ]
  },
  {
   "cell_type": "markdown",
   "id": "84f7e506-62ce-4c49-b703-69343edc276a",
   "metadata": {},
   "source": [
    "#fibonacci series"
   ]
  },
  {
   "cell_type": "code",
   "execution_count": 8,
   "id": "a142d917-f239-4c1d-9718-e8545c35d720",
   "metadata": {},
   "outputs": [
    {
     "name": "stdin",
     "output_type": "stream",
     "text": [
      "Enter the number of element you are looking for  10\n"
     ]
    },
    {
     "name": "stdout",
     "output_type": "stream",
     "text": [
      "0\n",
      "1\n",
      "1\n",
      "2\n",
      "3\n",
      "5\n",
      "8\n",
      "13\n",
      "21\n",
      "34\n"
     ]
    }
   ],
   "source": [
    "number = int(input(\"Enter the number of element you are looking for \"))\n",
    "a , b = 0 , 1\n",
    "counter = 0\n",
    "while counter < number:\n",
    "    print(a)\n",
    "    c = a + b\n",
    "    a = b\n",
    "    b = c\n",
    "    counter = counter + 1"
   ]
  },
  {
   "cell_type": "code",
   "execution_count": 10,
   "id": "302a7a8e-b0ff-4a33-8378-679eb74bc079",
   "metadata": {},
   "outputs": [
    {
     "name": "stdout",
     "output_type": "stream",
     "text": [
      "0\n",
      "1\n",
      "1\n",
      "2\n",
      "3\n",
      "5\n",
      "8\n",
      "13\n",
      "21\n",
      "34\n"
     ]
    }
   ],
   "source": [
    "a , b = 0 , 1\n",
    "for i in range(10) :#permanent range\n",
    "    print(a)\n",
    "    c = a + b\n",
    "    a = b\n",
    "    b = c"
   ]
  },
  {
   "cell_type": "markdown",
   "id": "b4e18346-cffd-4415-9c3c-1d38ac5aedb7",
   "metadata": {},
   "source": [
    "#reversing using while loop\n"
   ]
  },
  {
   "cell_type": "code",
   "execution_count": 11,
   "id": "e62a2a27-4af7-4b4f-8896-bf8ea39bcf9a",
   "metadata": {},
   "outputs": [],
   "source": [
    "s = \"sudh\""
   ]
  },
  {
   "cell_type": "code",
   "execution_count": 12,
   "id": "f392aca7-4dfa-4abb-87d5-511b473896e6",
   "metadata": {},
   "outputs": [
    {
     "data": {
      "text/plain": [
       "'hdus'"
      ]
     },
     "execution_count": 12,
     "metadata": {},
     "output_type": "execute_result"
    }
   ],
   "source": [
    "s[::-1]"
   ]
  },
  {
   "cell_type": "code",
   "execution_count": 15,
   "id": "7f5a4ca5-b674-444c-be44-23531e0dfe8c",
   "metadata": {},
   "outputs": [
    {
     "data": {
      "text/plain": [
       "4"
      ]
     },
     "execution_count": 15,
     "metadata": {},
     "output_type": "execute_result"
    }
   ],
   "source": [
    "len(word)"
   ]
  },
  {
   "cell_type": "code",
   "execution_count": 14,
   "id": "817956c2-8dc1-4a7c-ad6a-1734291229fa",
   "metadata": {},
   "outputs": [
    {
     "name": "stdin",
     "output_type": "stream",
     "text": [
      "enter your string for reversal sudh\n"
     ]
    }
   ],
   "source": [
    "word = input(\"enter your string for reversal\")"
   ]
  },
  {
   "cell_type": "code",
   "execution_count": 19,
   "id": "4a9ac502-6808-4d72-99a1-8c95cae96c1c",
   "metadata": {},
   "outputs": [
    {
     "name": "stdin",
     "output_type": "stream",
     "text": [
      "enter your string for reversal swap\n"
     ]
    },
    {
     "name": "stdout",
     "output_type": "stream",
     "text": [
      "the reverse of string is paws\n"
     ]
    }
   ],
   "source": [
    "word = input(\"enter your string for reversal\")\n",
    "reverse = \"\"\n",
    "length = len(word)\n",
    "while length > 0 :\n",
    "    reverse = reverse + word[length - 1]\n",
    "    length = length - 1\n",
    "print(\"the reverse of string is\",reverse)"
   ]
  },
  {
   "cell_type": "markdown",
   "id": "781b96f6-ff1a-47eb-ae6a-4598c1dcee04",
   "metadata": {},
   "source": [
    "#printing table of numbers"
   ]
  },
  {
   "cell_type": "code",
   "execution_count": 23,
   "id": "86f712d2-30a3-4345-9ec0-ad9e9a697d2e",
   "metadata": {},
   "outputs": [
    {
     "name": "stdin",
     "output_type": "stream",
     "text": [
      "enter your number 25\n"
     ]
    },
    {
     "name": "stdout",
     "output_type": "stream",
     "text": [
      "25  *  1 = 25\n",
      "25  *  2 = 50\n",
      "25  *  3 = 75\n",
      "25  *  4 = 100\n",
      "25  *  5 = 125\n",
      "25  *  6 = 150\n",
      "25  *  7 = 175\n",
      "25  *  8 = 200\n",
      "25  *  9 = 225\n",
      "25  *  10 = 250\n"
     ]
    }
   ],
   "source": [
    "n = int(input(\"enter your number\"))\n",
    "i = 1\n",
    "\n",
    "while i <= 10 :\n",
    "    result = n * i\n",
    "    print(n , \" * \" , i , \"=\" , result)\n",
    "    i = i + 1"
   ]
  },
  {
   "cell_type": "code",
   "execution_count": 24,
   "id": "a049b224-ea62-4961-b36b-56ba7e1acf2a",
   "metadata": {},
   "outputs": [
    {
     "name": "stdout",
     "output_type": "stream",
     "text": [
      "1\n",
      "2\n",
      "3\n",
      "4\n",
      "this will be executed once your while will complete it succesfully\n"
     ]
    }
   ],
   "source": [
    "n = 5\n",
    "i = 1\n",
    "while i < n :\n",
    "    print(i)\n",
    "    i = i + 1\n",
    "else :\n",
    "    print(\"this will be executed once your while will complete it succesfully\")"
   ]
  },
  {
   "cell_type": "code",
   "execution_count": 25,
   "id": "7949fc3e-2776-4e2d-a806-7c339c50f6ec",
   "metadata": {},
   "outputs": [
    {
     "name": "stdout",
     "output_type": "stream",
     "text": [
      "1\n",
      "2\n",
      "3\n"
     ]
    }
   ],
   "source": [
    "n = 5\n",
    "i = 1\n",
    "while i < n :\n",
    "    print(i)\n",
    "    if i == 3 :\n",
    "        break\n",
    "    i = i + 1\n",
    "else :\n",
    "    print(\"this will be executed once your while will complete it succesfully\")"
   ]
  },
  {
   "cell_type": "code",
   "execution_count": null,
   "id": "161d1f4c-d9a5-4ae3-b963-fe6767198aa4",
   "metadata": {},
   "outputs": [],
   "source": []
  }
 ],
 "metadata": {
  "kernelspec": {
   "display_name": "Python 3 (ipykernel)",
   "language": "python",
   "name": "python3"
  },
  "language_info": {
   "codemirror_mode": {
    "name": "ipython",
    "version": 3
   },
   "file_extension": ".py",
   "mimetype": "text/x-python",
   "name": "python",
   "nbconvert_exporter": "python",
   "pygments_lexer": "ipython3",
   "version": "3.10.8"
  }
 },
 "nbformat": 4,
 "nbformat_minor": 5
}
