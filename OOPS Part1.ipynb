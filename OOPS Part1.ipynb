{
 "cells": [
  {
   "cell_type": "markdown",
   "id": "f9dd8205-b506-48cb-8e07-90f7eaab39a4",
   "metadata": {},
   "source": [
    "\"Oops\" stands for Object-Oriented Programming System"
   ]
  },
  {
   "cell_type": "code",
   "execution_count": 1,
   "id": "c7f5593a-6269-457a-9973-f2a3833ac2f4",
   "metadata": {},
   "outputs": [],
   "source": [
    "a =1"
   ]
  },
  {
   "cell_type": "code",
   "execution_count": 2,
   "id": "cfbc52cd-5728-4bec-87dc-ccf32ac0109d",
   "metadata": {},
   "outputs": [
    {
     "name": "stdout",
     "output_type": "stream",
     "text": [
      "<class 'int'>\n"
     ]
    }
   ],
   "source": [
    "print(type(a))"
   ]
  },
  {
   "cell_type": "code",
   "execution_count": 3,
   "id": "542859d1-296a-4548-8026-84d0dccc0844",
   "metadata": {},
   "outputs": [
    {
     "name": "stdout",
     "output_type": "stream",
     "text": [
      "<class 'str'>\n"
     ]
    }
   ],
   "source": [
    "print(type(\"pwskills\"))#cLASS IS JUST A REAL WORLD ENTITY OR BLUEPRINT"
   ]
  },
  {
   "cell_type": "code",
   "execution_count": 4,
   "id": "90ad7600-e3de-49cb-b2e6-d970b3dff017",
   "metadata": {},
   "outputs": [],
   "source": [
    "class test :\n",
    "    pass#blank class"
   ]
  },
  {
   "cell_type": "code",
   "execution_count": 5,
   "id": "9097a057-b3e2-4a9f-a2a2-69499db459fc",
   "metadata": {},
   "outputs": [],
   "source": [
    "a = test()"
   ]
  },
  {
   "cell_type": "code",
   "execution_count": 6,
   "id": "7df4f5ef-9044-45ba-b2e3-a70413adf4f8",
   "metadata": {},
   "outputs": [
    {
     "data": {
      "text/plain": [
       "__main__.test"
      ]
     },
     "execution_count": 6,
     "metadata": {},
     "output_type": "execute_result"
    }
   ],
   "source": [
    "type(a)"
   ]
  },
  {
   "cell_type": "code",
   "execution_count": 7,
   "id": "83acfd56-bcb1-4d96-86d4-9c14d77bc751",
   "metadata": {},
   "outputs": [
    {
     "name": "stdout",
     "output_type": "stream",
     "text": [
      "<class '__main__.test'>\n"
     ]
    }
   ],
   "source": [
    "print(type(a))"
   ]
  },
  {
   "cell_type": "code",
   "execution_count": 12,
   "id": "bb9c9039-371c-4b09-a862-111154c44d58",
   "metadata": {},
   "outputs": [],
   "source": [
    "class pwskills :\n",
    "    def welcome_msg(self):\n",
    "        print(\"welcome to pwskills\")"
   ]
  },
  {
   "cell_type": "code",
   "execution_count": 13,
   "id": "12a34fe3-d385-4abf-9071-61e321d718ca",
   "metadata": {},
   "outputs": [],
   "source": [
    "rohan = pwskills()"
   ]
  },
  {
   "cell_type": "code",
   "execution_count": 14,
   "id": "bb1b3f2b-281c-4baf-8910-3965aa5898c5",
   "metadata": {},
   "outputs": [
    {
     "name": "stdout",
     "output_type": "stream",
     "text": [
      "<class '__main__.pwskills'>\n"
     ]
    }
   ],
   "source": [
    "print(type(rohan))"
   ]
  },
  {
   "cell_type": "code",
   "execution_count": 16,
   "id": "7ea1899f-ab48-480b-8dba-494c09f5df4b",
   "metadata": {},
   "outputs": [
    {
     "name": "stdout",
     "output_type": "stream",
     "text": [
      "welcome to pwskills\n"
     ]
    }
   ],
   "source": [
    "rohan.welcome_msg()#rohan is class object or variable or instance"
   ]
  },
  {
   "cell_type": "code",
   "execution_count": 17,
   "id": "91208160-761d-4822-81fe-5b7c3317b207",
   "metadata": {},
   "outputs": [],
   "source": [
    "gaurav = pwskills()"
   ]
  },
  {
   "cell_type": "code",
   "execution_count": 18,
   "id": "6221558d-2ecb-43c8-9bf5-5a7a532865f3",
   "metadata": {},
   "outputs": [
    {
     "name": "stdout",
     "output_type": "stream",
     "text": [
      "welcome to pwskills\n"
     ]
    }
   ],
   "source": [
    "gaurav.welcome_msg()"
   ]
  },
  {
   "cell_type": "code",
   "execution_count": 22,
   "id": "6da60b2f-d1f6-48ec-9c63-d10f16dd4353",
   "metadata": {},
   "outputs": [],
   "source": [
    "class pwskills1 :\n",
    "    \n",
    "    def __init__(self , phone_number, email_id, student_id):  #init is a constructor\n",
    "        self.phone_number = phone_number#to access variable name inside the class we use self\n",
    "        self.email_id = email_id\n",
    "        self.student_id = student_id\n",
    "        \n",
    "    def return_student_details(self ) :\n",
    "        return self.student_id , self.phone_number, self.email_id"
   ]
  },
  {
   "cell_type": "code",
   "execution_count": 23,
   "id": "7847435a-2ea1-4386-9d56-f971866ebe0c",
   "metadata": {},
   "outputs": [
    {
     "ename": "TypeError",
     "evalue": "pwskills1.__init__() missing 3 required positional arguments: 'phone_number', 'email_id', and 'student_id'",
     "output_type": "error",
     "traceback": [
      "\u001b[0;31m---------------------------------------------------------------------------\u001b[0m",
      "\u001b[0;31mTypeError\u001b[0m                                 Traceback (most recent call last)",
      "Cell \u001b[0;32mIn[23], line 1\u001b[0m\n\u001b[0;32m----> 1\u001b[0m rohan \u001b[38;5;241m=\u001b[39m \u001b[43mpwskills1\u001b[49m\u001b[43m(\u001b[49m\u001b[43m)\u001b[49m\n",
      "\u001b[0;31mTypeError\u001b[0m: pwskills1.__init__() missing 3 required positional arguments: 'phone_number', 'email_id', and 'student_id'"
     ]
    }
   ],
   "source": [
    "rohan = pwskills1()"
   ]
  },
  {
   "cell_type": "code",
   "execution_count": 24,
   "id": "5300f74f-282a-4a0e-97cd-36f19566655d",
   "metadata": {},
   "outputs": [],
   "source": [
    "rohan = pwskills1(1112342342, \"rohan@gmsil.com\", 101 )"
   ]
  },
  {
   "cell_type": "code",
   "execution_count": 35,
   "id": "6714f220-0947-48e1-89d2-d9ddb53b4889",
   "metadata": {},
   "outputs": [
    {
     "data": {
      "text/plain": [
       "1112342342"
      ]
     },
     "execution_count": 35,
     "metadata": {},
     "output_type": "execute_result"
    }
   ],
   "source": [
    "rohan.phone_number#to access variable outside the class we use object.phoneno etc."
   ]
  },
  {
   "cell_type": "code",
   "execution_count": 36,
   "id": "9e1e39c6-384f-483a-a4b5-e32f653adc97",
   "metadata": {},
   "outputs": [
    {
     "data": {
      "text/plain": [
       "'rohan@gmsil.com'"
      ]
     },
     "execution_count": 36,
     "metadata": {},
     "output_type": "execute_result"
    }
   ],
   "source": [
    "rohan.email_id"
   ]
  },
  {
   "cell_type": "code",
   "execution_count": 25,
   "id": "da576ea8-9db6-4054-893d-0f300522af20",
   "metadata": {},
   "outputs": [
    {
     "data": {
      "text/plain": [
       "(101, 1112342342, 'rohan@gmsil.com')"
      ]
     },
     "execution_count": 25,
     "metadata": {},
     "output_type": "execute_result"
    }
   ],
   "source": [
    "rohan.return_student_details()"
   ]
  },
  {
   "cell_type": "code",
   "execution_count": 26,
   "id": "e82b9d2c-a1f5-435a-8d22-9439ab9284f9",
   "metadata": {},
   "outputs": [],
   "source": [
    "gaurav = pwskills1(9876554534, \"gaurav@gmail.com\" , 102)"
   ]
  },
  {
   "cell_type": "code",
   "execution_count": 27,
   "id": "8b4f0407-9784-42bf-b812-0f90af154712",
   "metadata": {},
   "outputs": [
    {
     "data": {
      "text/plain": [
       "(102, 9876554534, 'gaurav@gmail.com')"
      ]
     },
     "execution_count": 27,
     "metadata": {},
     "output_type": "execute_result"
    }
   ],
   "source": [
    "gaurav.return_student_details()"
   ]
  },
  {
   "cell_type": "code",
   "execution_count": 40,
   "id": "f4e7fadf-dd95-4abe-9d56-29f7cbf5cd98",
   "metadata": {},
   "outputs": [],
   "source": [
    "class pwskills2 :\n",
    "    \n",
    "    def __init__(self , phone_number, email_id, student_id):  \n",
    "        self.phone_number1 = phone_number\n",
    "        self.email_id1 = email_id\n",
    "        self.student_id1 = student_id\n",
    "        \n",
    "    def return_student_details(self ) :\n",
    "        return self.student_id1 , self.phone_number1, self.email_id1"
   ]
  },
  {
   "cell_type": "code",
   "execution_count": 41,
   "id": "7e6f36a6-0ba6-455d-b82e-13d1b5409fa7",
   "metadata": {},
   "outputs": [],
   "source": [
    "sudh = pwskills2(345998765 , \"rohan@gmail.com\" , 101)"
   ]
  },
  {
   "cell_type": "code",
   "execution_count": 42,
   "id": "5f45ab94-8f4a-4808-ade2-eae3bdb43d68",
   "metadata": {},
   "outputs": [
    {
     "data": {
      "text/plain": [
       "<__main__.pwskills2 at 0x7fb2e4481180>"
      ]
     },
     "execution_count": 42,
     "metadata": {},
     "output_type": "execute_result"
    }
   ],
   "source": [
    "sudh"
   ]
  },
  {
   "cell_type": "code",
   "execution_count": 43,
   "id": "70d20893-239d-405f-8574-d0059b89f517",
   "metadata": {},
   "outputs": [
    {
     "data": {
      "text/plain": [
       "345998765"
      ]
     },
     "execution_count": 43,
     "metadata": {},
     "output_type": "execute_result"
    }
   ],
   "source": [
    "sudh.phone_number1"
   ]
  },
  {
   "cell_type": "code",
   "execution_count": 45,
   "id": "ddec5f7e-be9f-4c74-ab25-d3dac80bf7c2",
   "metadata": {},
   "outputs": [
    {
     "data": {
      "text/plain": [
       "'rohan@gmail.com'"
      ]
     },
     "execution_count": 45,
     "metadata": {},
     "output_type": "execute_result"
    }
   ],
   "source": [
    "sudh.email_id1"
   ]
  },
  {
   "cell_type": "code",
   "execution_count": 44,
   "id": "bc5df508-8c84-487f-aaf5-6fb169087531",
   "metadata": {},
   "outputs": [
    {
     "data": {
      "text/plain": [
       "(101, 345998765, 'rohan@gmail.com')"
      ]
     },
     "execution_count": 44,
     "metadata": {},
     "output_type": "execute_result"
    }
   ],
   "source": [
    "sudh.return_student_details()\n"
   ]
  },
  {
   "cell_type": "code",
   "execution_count": 53,
   "id": "9cfe7ed2-f073-4245-959d-23666e5c158b",
   "metadata": {},
   "outputs": [],
   "source": [
    "class pwskills2 :\n",
    "    \n",
    "    def __init__(sudh , phone_number, email_id, student_id):  \n",
    "        sudh.phone_number1 = phone_number\n",
    "        sudh.email_id1 = email_id\n",
    "        sudh.student_id1 = student_id\n",
    "        \n",
    "    def return_student_details(sudh ) :\n",
    "        return sudh.student_id1 , sudh.phone_number1, sudh.email_id1"
   ]
  },
  {
   "cell_type": "code",
   "execution_count": 54,
   "id": "5aefee1c-b3e4-4efd-8852-09ce2195a033",
   "metadata": {},
   "outputs": [],
   "source": [
    "rohan = pwskills2(23454564, \"rohan@gmail.com\", 324)"
   ]
  },
  {
   "cell_type": "code",
   "execution_count": 55,
   "id": "7999b7d6-1e93-4d94-bed0-f9c3b9a0cc58",
   "metadata": {},
   "outputs": [
    {
     "data": {
      "text/plain": [
       "23454564"
      ]
     },
     "execution_count": 55,
     "metadata": {},
     "output_type": "execute_result"
    }
   ],
   "source": [
    "rohan.phone_number1"
   ]
  },
  {
   "cell_type": "code",
   "execution_count": null,
   "id": "e83c41df-f7ea-4960-9bde-6f651ec7d693",
   "metadata": {},
   "outputs": [],
   "source": []
  }
 ],
 "metadata": {
  "kernelspec": {
   "display_name": "Python 3 (ipykernel)",
   "language": "python",
   "name": "python3"
  },
  "language_info": {
   "codemirror_mode": {
    "name": "ipython",
    "version": 3
   },
   "file_extension": ".py",
   "mimetype": "text/x-python",
   "name": "python",
   "nbconvert_exporter": "python",
   "pygments_lexer": "ipython3",
   "version": "3.10.8"
  }
 },
 "nbformat": 4,
 "nbformat_minor": 5
}
