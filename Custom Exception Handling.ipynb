{
 "cells": [
  {
   "cell_type": "code",
   "execution_count": 1,
   "id": "83a0f2c8-ab27-4e71-bc65-6a2e3343e65e",
   "metadata": {},
   "outputs": [],
   "source": [
    "class ValidateAge(Exception):\n",
    "    def __init__(self, msg):\n",
    "        self.msg = msg"
   ]
  },
  {
   "cell_type": "code",
   "execution_count": 2,
   "id": "583aeffb-9e4c-484f-af21-c671f9fc778b",
   "metadata": {},
   "outputs": [],
   "source": [
    "def validate_age(age):\n",
    "    if age < 0:\n",
    "        raise ValidateAge(\"Entered age is negative.\")\n",
    "    elif age > 200:\n",
    "        raise ValidateAge(\"Entered age is very very high.\")\n",
    "    else:\n",
    "        print(\"Age is valid.\")"
   ]
  },
  {
   "cell_type": "code",
   "execution_count": 4,
   "id": "d0cc2ccc-894d-4b4b-9e07-24fc1a7465ef",
   "metadata": {},
   "outputs": [
    {
     "name": "stdin",
     "output_type": "stream",
     "text": [
      "Enter your age:  202\n"
     ]
    },
    {
     "name": "stdout",
     "output_type": "stream",
     "text": [
      "Entered age is very very high.\n"
     ]
    }
   ],
   "source": [
    "try:\n",
    "    age = int(input(\"Enter your age: \"))\n",
    "    validate_age(age)\n",
    "except ValidateAge as e:\n",
    "    print(e.msg)\n",
    "except ValueError:\n",
    "    print(\"Invalid input. Please enter a valid number.\")"
   ]
  },
  {
   "cell_type": "code",
   "execution_count": null,
   "id": "9d1f5546-1218-46be-a266-d6b510cfd798",
   "metadata": {},
   "outputs": [],
   "source": []
  }
 ],
 "metadata": {
  "kernelspec": {
   "display_name": "Python 3 (ipykernel)",
   "language": "python",
   "name": "python3"
  },
  "language_info": {
   "codemirror_mode": {
    "name": "ipython",
    "version": 3
   },
   "file_extension": ".py",
   "mimetype": "text/x-python",
   "name": "python",
   "nbconvert_exporter": "python",
   "pygments_lexer": "ipython3",
   "version": "3.11.7"
  }
 },
 "nbformat": 4,
 "nbformat_minor": 5
}
