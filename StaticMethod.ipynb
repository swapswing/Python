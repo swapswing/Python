{
 "cells": [
  {
   "cell_type": "code",
   "execution_count": 2,
   "id": "a64f18d0-ba8b-419f-b06f-01a0f73487cb",
   "metadata": {},
   "outputs": [],
   "source": [
    "class pwskills:\n",
    "    \n",
    "    def student_details(self , name , mail_id , number):\n",
    "        print(name , mail_id , number)"
   ]
  },
  {
   "cell_type": "code",
   "execution_count": 3,
   "id": "564d6631-5b74-4b92-a2cd-c29540ebc909",
   "metadata": {},
   "outputs": [],
   "source": [
    "pw = pwskills()"
   ]
  },
  {
   "cell_type": "code",
   "execution_count": 4,
   "id": "0b6ebc28-2ae3-4666-a642-e174bac5aa32",
   "metadata": {},
   "outputs": [
    {
     "name": "stdout",
     "output_type": "stream",
     "text": [
      "sam saminem@gmail.com 9876542344\n"
     ]
    }
   ],
   "source": [
    "pw.student_details(\"sam\" , \"saminem@gmail.com\", 9876542344)"
   ]
  },
  {
   "cell_type": "code",
   "execution_count": 8,
   "id": "ae6b4c65-0fb6-46ba-a9c3-1e364d3af466",
   "metadata": {},
   "outputs": [],
   "source": [
    "class pwskills1:\n",
    "    \n",
    "    def student_details(self , name , mail_id , number):\n",
    "        print(name , mail_id , number)\n",
    "        \n",
    "    @staticmethod\n",
    "    def mentor_class(list_mentor):\n",
    "        print(list_mentor)\n",
    "        \n",
    "    def mentor(self , mentor_list):\n",
    "        print(mentor_list)"
   ]
  },
  {
   "cell_type": "code",
   "execution_count": 9,
   "id": "f51ab7ed-eb78-41c6-a116-cbabf5870c2d",
   "metadata": {},
   "outputs": [
    {
     "name": "stdout",
     "output_type": "stream",
     "text": [
      "['sami', 'swing']\n"
     ]
    }
   ],
   "source": [
    "pwskills1.mentor_class([\"sami\" ,\"swing\"])"
   ]
  },
  {
   "cell_type": "code",
   "execution_count": 10,
   "id": "cadd77b5-cf4b-4f02-a7bb-05760e41b1a1",
   "metadata": {},
   "outputs": [],
   "source": [
    "stu1 = pwskills1()#making copy of it"
   ]
  },
  {
   "cell_type": "code",
   "execution_count": 11,
   "id": "f7b389a6-86b5-4a87-aa1d-daea08f22a63",
   "metadata": {},
   "outputs": [],
   "source": [
    "stu2 = pwskills1()"
   ]
  },
  {
   "cell_type": "code",
   "execution_count": 12,
   "id": "da6afa16-1fe9-48cf-8b6b-2600b18099f9",
   "metadata": {},
   "outputs": [],
   "source": [
    "stu3 = pwskills1()"
   ]
  },
  {
   "cell_type": "code",
   "execution_count": 13,
   "id": "50f73a87-a41f-425f-94a0-64880ca30ecf",
   "metadata": {},
   "outputs": [
    {
     "name": "stdout",
     "output_type": "stream",
     "text": [
      "['sami', 'tommi']\n"
     ]
    }
   ],
   "source": [
    "stu1.mentor([\"sami\" , \"tommi\"])"
   ]
  },
  {
   "cell_type": "code",
   "execution_count": 23,
   "id": "ae890431-d792-4f12-a5a3-dd28fcb45b8a",
   "metadata": {},
   "outputs": [],
   "source": [
    "class pwskills2:\n",
    "    \n",
    "    def student_details(self , name , mail_id , number):\n",
    "        print(name , mail_id , number)\n",
    "    \n",
    "    @staticmethod\n",
    "    def mentor_mal_id(mail_id_mentor):\n",
    "        print(mail_id_mentor) \n",
    "    \n",
    "    \n",
    "    @staticmethod\n",
    "    def mentor_class(list_mentor):#static ke andar static call kar rahe hai\n",
    "        pwskills2.mentor_mal_id([\"saminem@gmail.com\" , \"swing@gmail.com\"])\n",
    "        print(list_mentor)\n",
    "        \n",
    "    @classmethod\n",
    "    def class_name(cls):\n",
    "        cls.mentor_class([\"saminem\" , \"swing\"])\n",
    "    \n",
    "    def mentor(self , mentor_list):#this is instance method\n",
    "        print(mentor_list)\n",
    "        self.mentor_class([\"saminem\" , \"swing\"])#calling static into classmethod"
   ]
  },
  {
   "cell_type": "code",
   "execution_count": 24,
   "id": "8d4dafa8-6228-4f1e-a4ca-4a3adf9f61f7",
   "metadata": {},
   "outputs": [
    {
     "name": "stdout",
     "output_type": "stream",
     "text": [
      "['saminem@gmail.com', 'swing@gmail.com']\n",
      "['saminem', 'swing']\n"
     ]
    }
   ],
   "source": [
    "pwskills2.mentor_class([\"saminem\" , \"swing\"])"
   ]
  },
  {
   "cell_type": "code",
   "execution_count": 25,
   "id": "da456d9b-fd10-491f-bb60-78a06103eb41",
   "metadata": {},
   "outputs": [
    {
     "name": "stdout",
     "output_type": "stream",
     "text": [
      "['saminem@gmail.com', 'swing@gmail.com']\n",
      "['saminem', 'swing']\n"
     ]
    }
   ],
   "source": [
    "pwskills2.class_name()"
   ]
  },
  {
   "cell_type": "code",
   "execution_count": 26,
   "id": "f2489229-239e-451f-88a1-7e0c3d7281e5",
   "metadata": {},
   "outputs": [],
   "source": [
    "pw = pwskills2()"
   ]
  },
  {
   "cell_type": "code",
   "execution_count": 27,
   "id": "b04f4301-55bd-498b-90fa-039133d3ad81",
   "metadata": {},
   "outputs": [
    {
     "name": "stdout",
     "output_type": "stream",
     "text": [
      "['saminem', 'swing']\n",
      "['saminem@gmail.com', 'swing@gmail.com']\n",
      "['saminem', 'swing']\n"
     ]
    }
   ],
   "source": [
    "pw.mentor([\"saminem\" , \"swing\"])"
   ]
  },
  {
   "cell_type": "code",
   "execution_count": null,
   "id": "d58385ac-4d29-4c5d-a4c5-3b0fbbc7cfd9",
   "metadata": {},
   "outputs": [],
   "source": []
  }
 ],
 "metadata": {
  "kernelspec": {
   "display_name": "Python 3 (ipykernel)",
   "language": "python",
   "name": "python3"
  },
  "language_info": {
   "codemirror_mode": {
    "name": "ipython",
    "version": 3
   },
   "file_extension": ".py",
   "mimetype": "text/x-python",
   "name": "python",
   "nbconvert_exporter": "python",
   "pygments_lexer": "ipython3",
   "version": "3.10.8"
  }
 },
 "nbformat": 4,
 "nbformat_minor": 5
}
