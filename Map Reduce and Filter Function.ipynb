{
 "cells": [
  {
   "cell_type": "code",
   "execution_count": 1,
   "id": "7a884ec1-dece-496f-83fd-49116d7b1f95",
   "metadata": {},
   "outputs": [],
   "source": [
    "l = [2,3,4,5,6]"
   ]
  },
  {
   "cell_type": "code",
   "execution_count": 2,
   "id": "79e2fa53-1654-4193-b75a-098101de3c38",
   "metadata": {},
   "outputs": [],
   "source": [
    "def test(l):\n",
    "    l1 = []\n",
    "    for i in l :\n",
    "        l1.append(i**2)#squarinng above list l\n",
    "    return l1"
   ]
  },
  {
   "cell_type": "code",
   "execution_count": 3,
   "id": "9e9ed23c-e511-437f-be46-3040ab131654",
   "metadata": {},
   "outputs": [
    {
     "data": {
      "text/plain": [
       "[4, 9, 16, 25, 36]"
      ]
     },
     "execution_count": 3,
     "metadata": {},
     "output_type": "execute_result"
    }
   ],
   "source": [
    "test(l)"
   ]
  },
  {
   "cell_type": "code",
   "execution_count": 4,
   "id": "edfe73be-d67a-4ea8-86c8-f12a466d07be",
   "metadata": {},
   "outputs": [],
   "source": [
    "def sq(x):\n",
    "    return x**2"
   ]
  },
  {
   "cell_type": "code",
   "execution_count": 5,
   "id": "c1425f40-6ab7-4e2c-bf27-f186d929c256",
   "metadata": {},
   "outputs": [
    {
     "data": {
      "text/plain": [
       "[4, 9, 16, 25, 36]"
      ]
     },
     "execution_count": 5,
     "metadata": {},
     "output_type": "execute_result"
    }
   ],
   "source": [
    "list(map(sq ,l))#external function"
   ]
  },
  {
   "cell_type": "code",
   "execution_count": 6,
   "id": "9493b2ef-d477-42aa-8779-80a9ae8aa0fe",
   "metadata": {},
   "outputs": [
    {
     "data": {
      "text/plain": [
       "[4, 9, 16, 25, 36]"
      ]
     },
     "execution_count": 6,
     "metadata": {},
     "output_type": "execute_result"
    }
   ],
   "source": [
    "list(map(lambda x : x**2 , l))#using lambda function"
   ]
  },
  {
   "cell_type": "code",
   "execution_count": 7,
   "id": "15f525ef-5425-4b2c-aa8e-89e2ad483dbe",
   "metadata": {},
   "outputs": [
    {
     "data": {
      "text/plain": [
       "[7, 9, 11, 13, 15]"
      ]
     },
     "execution_count": 7,
     "metadata": {},
     "output_type": "execute_result"
    }
   ],
   "source": [
    "l1 = [1,2,3,4,5]\n",
    "l2 = [6,7,8,9,10]\n",
    "\n",
    "list(map(lambda x,y : x+y ,l1 ,l2 ))#addition of indexes using lambda function"
   ]
  },
  {
   "cell_type": "code",
   "execution_count": 8,
   "id": "b33cda77-7d6a-4e02-9635-6f8a8acc6d5c",
   "metadata": {},
   "outputs": [],
   "source": [
    "def add(x,y):\n",
    "    return x+y"
   ]
  },
  {
   "cell_type": "code",
   "execution_count": 9,
   "id": "f5153845-fc6e-4f4b-b8e2-afbd0f02d201",
   "metadata": {},
   "outputs": [
    {
     "data": {
      "text/plain": [
       "[7, 9, 11, 13, 15]"
      ]
     },
     "execution_count": 9,
     "metadata": {},
     "output_type": "execute_result"
    }
   ],
   "source": [
    "list(map(add , l1 ,l2))#using external function"
   ]
  },
  {
   "cell_type": "code",
   "execution_count": 10,
   "id": "a0b29bf4-a63e-4beb-96b8-51a81ae83071",
   "metadata": {},
   "outputs": [
    {
     "data": {
      "text/plain": [
       "['P', 'W', 'S', 'K', 'I', 'L', 'L', 'S']"
      ]
     },
     "execution_count": 10,
     "metadata": {},
     "output_type": "execute_result"
    }
   ],
   "source": [
    "s = \"pwskills\"\n",
    "list(map(lambda s : s.upper() , s))"
   ]
  },
  {
   "cell_type": "code",
   "execution_count": 11,
   "id": "68373dbe-ad2f-469d-9409-a3e73d85a638",
   "metadata": {},
   "outputs": [],
   "source": [
    "from functools import reduce #importing reduce from function tools"
   ]
  },
  {
   "cell_type": "code",
   "execution_count": 12,
   "id": "c6432f5c-6928-4166-ae3b-06cd46cded1e",
   "metadata": {},
   "outputs": [],
   "source": [
    "l = [1,2,3,3,4,5]"
   ]
  },
  {
   "cell_type": "code",
   "execution_count": 13,
   "id": "894f4e2d-ff12-423e-a43e-f42e972dc11a",
   "metadata": {},
   "outputs": [
    {
     "data": {
      "text/plain": [
       "18"
      ]
     },
     "execution_count": 13,
     "metadata": {},
     "output_type": "execute_result"
    }
   ],
   "source": [
    "reduce(lambda x,y : x+y , l)#sum of all elements in above list"
   ]
  },
  {
   "cell_type": "code",
   "execution_count": 15,
   "id": "f1c211ea-4e84-4a7a-a6f7-a5591653b920",
   "metadata": {},
   "outputs": [
    {
     "ename": "NameError",
     "evalue": "name 'reduc' is not defined",
     "output_type": "error",
     "traceback": [
      "\u001b[0;31m---------------------------------------------------------------------------\u001b[0m",
      "\u001b[0;31mNameError\u001b[0m                                 Traceback (most recent call last)",
      "Cell \u001b[0;32mIn[15], line 1\u001b[0m\n\u001b[0;32m----> 1\u001b[0m \u001b[43mreduc\u001b[49m(\u001b[38;5;28;01mlambda\u001b[39;00m x , y ,z : x\u001b[38;5;241m+\u001b[39my\u001b[38;5;241m+\u001b[39mz ,l)\u001b[38;5;66;03m#we cannot pass 3 paramemters in reduce function\u001b[39;00m\n",
      "\u001b[0;31mNameError\u001b[0m: name 'reduc' is not defined"
     ]
    }
   ],
   "source": [
    "reduc(lambda x , y ,z : x+y+z ,l)#we cannot pass 3 paramemters in reduce function"
   ]
  },
  {
   "cell_type": "code",
   "execution_count": 16,
   "id": "e8eea0c6-cac1-44b8-be39-6f6d2da0c551",
   "metadata": {},
   "outputs": [
    {
     "ename": "TypeError",
     "evalue": "reduce() of empty iterable with no initial value",
     "output_type": "error",
     "traceback": [
      "\u001b[0;31m---------------------------------------------------------------------------\u001b[0m",
      "\u001b[0;31mTypeError\u001b[0m                                 Traceback (most recent call last)",
      "Cell \u001b[0;32mIn[16], line 1\u001b[0m\n\u001b[0;32m----> 1\u001b[0m \u001b[43mreduce\u001b[49m\u001b[43m(\u001b[49m\u001b[38;5;28;43;01mlambda\u001b[39;49;00m\u001b[43m \u001b[49m\u001b[43mx\u001b[49m\u001b[43m,\u001b[49m\u001b[43my\u001b[49m\u001b[43m \u001b[49m\u001b[43m:\u001b[49m\u001b[43m \u001b[49m\u001b[43mx\u001b[49m\u001b[38;5;241;43m+\u001b[39;49m\u001b[43my\u001b[49m\u001b[43m \u001b[49m\u001b[43m,\u001b[49m\u001b[43m \u001b[49m\u001b[43m[\u001b[49m\u001b[43m]\u001b[49m\u001b[43m \u001b[49m\u001b[43m)\u001b[49m\n",
      "\u001b[0;31mTypeError\u001b[0m: reduce() of empty iterable with no initial value"
     ]
    }
   ],
   "source": [
    "reduce(lambda x,y : x+y , [] )"
   ]
  },
  {
   "cell_type": "code",
   "execution_count": 17,
   "id": "58a3a0e4-ec05-44b2-a9f5-a3681f332ffa",
   "metadata": {},
   "outputs": [
    {
     "data": {
      "text/plain": [
       "1"
      ]
     },
     "execution_count": 17,
     "metadata": {},
     "output_type": "execute_result"
    }
   ],
   "source": [
    "reduce(lambda x,y : x+y , [1])#works on one data entry but our no of arrguments never should be 3"
   ]
  },
  {
   "cell_type": "code",
   "execution_count": 18,
   "id": "f1683820-4e78-4ba5-8f7d-83824fd24760",
   "metadata": {},
   "outputs": [
    {
     "data": {
      "text/plain": [
       "360"
      ]
     },
     "execution_count": 18,
     "metadata": {},
     "output_type": "execute_result"
    }
   ],
   "source": [
    "reduce(lambda x,y : x*y , l)"
   ]
  },
  {
   "cell_type": "code",
   "execution_count": 19,
   "id": "fc0e95b5-710d-4e3b-9846-beebfa6ab132",
   "metadata": {},
   "outputs": [
    {
     "data": {
      "text/plain": [
       "[1, 2, 3, 3, 4, 5]"
      ]
     },
     "execution_count": 19,
     "metadata": {},
     "output_type": "execute_result"
    }
   ],
   "source": [
    "l"
   ]
  },
  {
   "cell_type": "code",
   "execution_count": 21,
   "id": "3cdd9e92-df05-40ea-98d7-26c42a30baf3",
   "metadata": {},
   "outputs": [
    {
     "data": {
      "text/plain": [
       "5"
      ]
     },
     "execution_count": 21,
     "metadata": {},
     "output_type": "execute_result"
    }
   ],
   "source": [
    "reduce(lambda x,y : x if x>y else y , l)#Finding maximum value in the list"
   ]
  },
  {
   "cell_type": "code",
   "execution_count": 22,
   "id": "f0511961-1eda-4229-a314-d92b86b96c50",
   "metadata": {},
   "outputs": [
    {
     "data": {
      "text/plain": [
       "[1, 2, 3, 3, 4, 5]"
      ]
     },
     "execution_count": 22,
     "metadata": {},
     "output_type": "execute_result"
    }
   ],
   "source": [
    "l"
   ]
  },
  {
   "cell_type": "code",
   "execution_count": 26,
   "id": "0f1dd67b-fd55-472a-ab77-4832ade9f455",
   "metadata": {},
   "outputs": [
    {
     "data": {
      "text/plain": [
       "[2, 4]"
      ]
     },
     "execution_count": 26,
     "metadata": {},
     "output_type": "execute_result"
    }
   ],
   "source": [
    "list(filter(lambda x : x % 2 == 0 , l))#finding even nos with filter function"
   ]
  },
  {
   "cell_type": "code",
   "execution_count": 28,
   "id": "09378d76-910e-412b-88a6-afebf6876867",
   "metadata": {},
   "outputs": [
    {
     "data": {
      "text/plain": [
       "[1, 3, 3, 5]"
      ]
     },
     "execution_count": 28,
     "metadata": {},
     "output_type": "execute_result"
    }
   ],
   "source": [
    "list(filter(lambda x : x % 2 != 0 , l))#finding odd nos with filter function"
   ]
  },
  {
   "cell_type": "code",
   "execution_count": 29,
   "id": "5f4adcf9-0955-4a85-9180-9420e4b31e52",
   "metadata": {},
   "outputs": [],
   "source": [
    "l1 = [-3,4,5,6,-1,-5]"
   ]
  },
  {
   "cell_type": "code",
   "execution_count": 30,
   "id": "0675c3b8-175b-4d7e-938e-346f97dacf99",
   "metadata": {},
   "outputs": [
    {
     "data": {
      "text/plain": [
       "[-3, -1, -5]"
      ]
     },
     "execution_count": 30,
     "metadata": {},
     "output_type": "execute_result"
    }
   ],
   "source": [
    "list(filter(lambda x : x<0 , l1))#finding -ve nos with filter function"
   ]
  },
  {
   "cell_type": "code",
   "execution_count": 32,
   "id": "00c6b260-2e96-4bfa-bfe8-a38b1779071a",
   "metadata": {},
   "outputs": [],
   "source": [
    "l2 = [\"sudh\", \"pwskills\", \"kumar\", \"bangalore\", \"krish\"]"
   ]
  },
  {
   "cell_type": "code",
   "execution_count": 33,
   "id": "f121edba-f2a2-4afc-84f7-31df7df57bb7",
   "metadata": {},
   "outputs": [
    {
     "data": {
      "text/plain": [
       "['sudh', 'kumar', 'krish']"
      ]
     },
     "execution_count": 33,
     "metadata": {},
     "output_type": "execute_result"
    }
   ],
   "source": [
    "list(filter(lambda x : len(x) <6 , l2))"
   ]
  },
  {
   "cell_type": "code",
   "execution_count": 33,
   "id": "5024be73-6420-4a47-b33e-4494e2fa578a",
   "metadata": {},
   "outputs": [
    {
     "data": {
      "text/plain": [
       "['sudh', 'kumar', 'krish']"
      ]
     },
     "execution_count": 33,
     "metadata": {},
     "output_type": "execute_result"
    }
   ],
   "source": [
    "list(filter(lambda x : len(x) <6 , l2))#l"
   ]
  },
  {
   "cell_type": "code",
   "execution_count": null,
   "id": "56573c3c-1d91-440c-96f0-2e61f4cfb764",
   "metadata": {},
   "outputs": [],
   "source": []
  }
 ],
 "metadata": {
  "kernelspec": {
   "display_name": "Python 3 (ipykernel)",
   "language": "python",
   "name": "python3"
  },
  "language_info": {
   "codemirror_mode": {
    "name": "ipython",
    "version": 3
   },
   "file_extension": ".py",
   "mimetype": "text/x-python",
   "name": "python",
   "nbconvert_exporter": "python",
   "pygments_lexer": "ipython3",
   "version": "3.10.8"
  }
 },
 "nbformat": 4,
 "nbformat_minor": 5
}
