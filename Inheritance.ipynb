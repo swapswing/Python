{
 "cells": [
  {
   "cell_type": "code",
   "execution_count": 1,
   "id": "bb034269-1797-4f94-85a5-328f0f293757",
   "metadata": {},
   "outputs": [],
   "source": [
    "class test:\n",
    "    \n",
    "    def test_meth(self):#self is required to create a reference towards the class\n",
    "        return \"this is my first class\""
   ]
  },
  {
   "cell_type": "code",
   "execution_count": 8,
   "id": "614f687a-bd39-4086-a511-71b1f5e21aa9",
   "metadata": {},
   "outputs": [],
   "source": [
    "class child_test(test):#calling above class\n",
    "    pass"
   ]
  },
  {
   "cell_type": "code",
   "execution_count": 9,
   "id": "c7884ff4-1a85-44f3-a3de-e426c13315fd",
   "metadata": {},
   "outputs": [],
   "source": [
    "child_test_obj = child_test()#inheriting above class using object"
   ]
  },
  {
   "cell_type": "code",
   "execution_count": 10,
   "id": "3a1afc55-8b03-4990-b90e-7dd958eab983",
   "metadata": {},
   "outputs": [
    {
     "data": {
      "text/plain": [
       "'this is my first class'"
      ]
     },
     "execution_count": 10,
     "metadata": {},
     "output_type": "execute_result"
    }
   ],
   "source": [
    "child_test_obj.test_meth()"
   ]
  },
  {
   "cell_type": "markdown",
   "id": "bca6be72-d29d-4668-919b-5a03e66a2f40",
   "metadata": {},
   "source": [
    "Multlilable class(class1 class2 ko access kr para he, class 2 class3 ko, and class3 class1 and class2 ko access kr para he by using multilable inheritance)"
   ]
  },
  {
   "cell_type": "code",
   "execution_count": 11,
   "id": "b517e9a4-afa3-4a5e-98d6-995c4c25304e",
   "metadata": {},
   "outputs": [],
   "source": [
    "class class1:\n",
    "    \n",
    "    def test_class1(self):\n",
    "        return \"this is a meth from class1\""
   ]
  },
  {
   "cell_type": "code",
   "execution_count": 12,
   "id": "77c544e4-b921-4400-9c17-f0fb648e7901",
   "metadata": {},
   "outputs": [],
   "source": [
    "class class2(class1):\n",
    "    def test_class2(self):\n",
    "        return \"this is a meth from class 2\""
   ]
  },
  {
   "cell_type": "code",
   "execution_count": 13,
   "id": "def3560c-9c42-4904-bd0e-89a9cc2e4e87",
   "metadata": {},
   "outputs": [],
   "source": [
    "class class3(class2):\n",
    "    pass"
   ]
  },
  {
   "cell_type": "code",
   "execution_count": 14,
   "id": "80fd5241-41ff-4559-b009-0ad39baa8969",
   "metadata": {},
   "outputs": [],
   "source": [
    "obj_class3 = class3()"
   ]
  },
  {
   "cell_type": "code",
   "execution_count": 15,
   "id": "5b115ae9-fc84-4566-8e9c-d0878597c5e8",
   "metadata": {},
   "outputs": [
    {
     "data": {
      "text/plain": [
       "'this is a meth from class1'"
      ]
     },
     "execution_count": 15,
     "metadata": {},
     "output_type": "execute_result"
    }
   ],
   "source": [
    "obj_class3.test_class1()"
   ]
  },
  {
   "cell_type": "code",
   "execution_count": 16,
   "id": "1ec6c805-0359-4816-890c-08cc84b54783",
   "metadata": {},
   "outputs": [
    {
     "data": {
      "text/plain": [
       "'this is a meth from class 2'"
      ]
     },
     "execution_count": 16,
     "metadata": {},
     "output_type": "execute_result"
    }
   ],
   "source": [
    "obj_class3.test_class2()"
   ]
  },
  {
   "cell_type": "markdown",
   "id": "3e06ffd9-a006-46cf-87a8-d795d259d3e0",
   "metadata": {},
   "source": [
    "Multiple Inheritance (class1 and class2 parent classes and accessed by class3)"
   ]
  },
  {
   "cell_type": "code",
   "execution_count": 18,
   "id": "77f75554-dfe4-475e-af99-c5517db124fe",
   "metadata": {},
   "outputs": [],
   "source": [
    "class class1:\n",
    "    \n",
    "    def test_class1(self):\n",
    "        return \"this is a class1\""
   ]
  },
  {
   "cell_type": "code",
   "execution_count": 19,
   "id": "92527380-d350-4539-b0f7-889e27ffeca1",
   "metadata": {},
   "outputs": [],
   "source": [
    "class class2:\n",
    "    \n",
    "    def test_class2(self):\n",
    "        return \"this is class2\""
   ]
  },
  {
   "cell_type": "code",
   "execution_count": 21,
   "id": "e3add3a3-1d31-465e-a036-7891854d7695",
   "metadata": {},
   "outputs": [],
   "source": [
    "class class3(class1 , class2):\n",
    "    pass"
   ]
  },
  {
   "cell_type": "code",
   "execution_count": 22,
   "id": "a2240c4f-e44f-46ca-b8e0-654baf1f5f54",
   "metadata": {},
   "outputs": [],
   "source": [
    "obj_class3 = class3()"
   ]
  },
  {
   "cell_type": "code",
   "execution_count": 23,
   "id": "9d876524-66db-41f0-9fc1-b6de0a0be7bc",
   "metadata": {},
   "outputs": [
    {
     "data": {
      "text/plain": [
       "'this is a class1'"
      ]
     },
     "execution_count": 23,
     "metadata": {},
     "output_type": "execute_result"
    }
   ],
   "source": [
    "obj_class3.test_class1()"
   ]
  },
  {
   "cell_type": "code",
   "execution_count": 24,
   "id": "a9c1322c-b257-4159-91ba-79dfdaab6168",
   "metadata": {},
   "outputs": [
    {
     "data": {
      "text/plain": [
       "'this is class2'"
      ]
     },
     "execution_count": 24,
     "metadata": {},
     "output_type": "execute_result"
    }
   ],
   "source": [
    "obj_class3.test_class2()"
   ]
  },
  {
   "cell_type": "code",
   "execution_count": null,
   "id": "50aa0ef5-5472-4c50-ba59-cf035706caed",
   "metadata": {},
   "outputs": [],
   "source": []
  }
 ],
 "metadata": {
  "kernelspec": {
   "display_name": "Python 3 (ipykernel)",
   "language": "python",
   "name": "python3"
  },
  "language_info": {
   "codemirror_mode": {
    "name": "ipython",
    "version": 3
   },
   "file_extension": ".py",
   "mimetype": "text/x-python",
   "name": "python",
   "nbconvert_exporter": "python",
   "pygments_lexer": "ipython3",
   "version": "3.10.8"
  }
 },
 "nbformat": 4,
 "nbformat_minor": 5
}
