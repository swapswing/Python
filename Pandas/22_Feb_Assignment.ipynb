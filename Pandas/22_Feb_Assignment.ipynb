{
 "cells": [
  {
   "cell_type": "code",
   "execution_count": 1,
   "id": "0d11fdc3-ff7c-4c72-aa58-f0bb013761b4",
   "metadata": {},
   "outputs": [
    {
     "name": "stdout",
     "output_type": "stream",
     "text": [
      "0     4\n",
      "1     8\n",
      "2    15\n",
      "3    16\n",
      "4    23\n",
      "5    42\n",
      "dtype: int64\n"
     ]
    }
   ],
   "source": [
    "# Q1. Create a Pandas Series that contains the following data: 4, 8, 15, 16, 23, and 42. Then, print the series.\n",
    "import pandas as pd\n",
    "\n",
    "# Data for the series\n",
    "data = [4, 8, 15, 16, 23, 42]\n",
    "\n",
    "# Create a Pandas Series\n",
    "series = pd.Series(data)\n",
    "\n",
    "# Print the series\n",
    "print(series)\n"
   ]
  },
  {
   "cell_type": "code",
   "execution_count": 2,
   "id": "6391cbe7-4d0a-4713-8a0e-30b0e74a1c50",
   "metadata": {},
   "outputs": [
    {
     "name": "stdout",
     "output_type": "stream",
     "text": [
      "0     1\n",
      "1     2\n",
      "2     3\n",
      "3     4\n",
      "4     5\n",
      "5     6\n",
      "6     7\n",
      "7     8\n",
      "8     9\n",
      "9    10\n",
      "dtype: int64\n"
     ]
    }
   ],
   "source": [
    "# Q2. Create a variable of list type containing 10 elements in it, and apply pandas.Series function on the variable print it.\n",
    "# List containing 10 elements\n",
    "list_data = [1, 2, 3, 4, 5, 6, 7, 8, 9, 10]\n",
    "\n",
    "# Convert list to Pandas Series\n",
    "series_from_list = pd.Series(list_data)\n",
    "\n",
    "# Print the series\n",
    "print(series_from_list)\n"
   ]
  },
  {
   "cell_type": "code",
   "execution_count": 3,
   "id": "025beb36-261a-4e97-85ec-e9ccb2e536dd",
   "metadata": {},
   "outputs": [
    {
     "name": "stdout",
     "output_type": "stream",
     "text": [
      "     Name  Age  Gender\n",
      "0   Alice   25  Female\n",
      "1     Bob   30    Male\n",
      "2  Claire   27  Female\n"
     ]
    }
   ],
   "source": [
    "# Q3. Create a Pandas DataFrame that contains the following data:\n",
    "# Data for the DataFrame\n",
    "data = {\n",
    "    'Name': ['Alice', 'Bob', 'Claire'],\n",
    "    'Age': [25, 30, 27],\n",
    "    'Gender': ['Female', 'Male', 'Female']\n",
    "}\n",
    "\n",
    "# Create DataFrame\n",
    "df = pd.DataFrame(data)\n",
    "\n",
    "# Print the DataFrame\n",
    "print(df)"
   ]
  },
  {
   "cell_type": "markdown",
   "id": "b763c3af-0202-474c-b1a9-938de2c7b832",
   "metadata": {},
   "source": [
    "# Q4. What is ‘DataFrame’ in pandas and how is it different from pandas.series? Explain with an example.\n",
    "Ans.A DataFrame is a 2-dimensional labeled data structure with columns of potentially different types, similar to a table in a relational database or an Excel spreadsheet. It is mutable in terms of size and content and can be thought of as a collection of Series objects.\n",
    "\n",
    "A Series is a 1-dimensional labeled array capable of holding any data type (integers, strings, floating-point numbers, Python objects, etc.). Each value in a Series is associated with an index.\n",
    "\n",
    "Example:\n",
    "\n",
    "Series: A column in a DataFrame.\n",
    "DataFrame: A table of data with rows and columns."
   ]
  },
  {
   "cell_type": "markdown",
   "id": "e2bc17d9-a419-4de8-9317-376e7b272786",
   "metadata": {},
   "source": [
    "# Q5. What are some common functions you can use to manipulate data in a Pandas DataFrame? Can you give an example of when you might use one of these functions?\n",
    "Ans.\n",
    "Some common functions include:\n",
    "\n",
    "head(): View the first few rows.\n",
    "tail(): View the last few rows.\n",
    "describe(): Generate summary statistics.\n",
    "info(): Print concise summary of DataFrame.\n",
    "groupby(): Group data by specific columns and apply aggregations.\n",
    "merge(): Merge two DataFrames.\n",
    "apply(): Apply a function along a DataFrame axis."
   ]
  },
  {
   "cell_type": "code",
   "execution_count": 4,
   "id": "7f39f6a1-e91a-420d-a129-8d2cd8348502",
   "metadata": {},
   "outputs": [
    {
     "name": "stdout",
     "output_type": "stream",
     "text": [
      "Gender\n",
      "Female    26.0\n",
      "Male      30.0\n",
      "Name: Age, dtype: float64\n"
     ]
    }
   ],
   "source": [
    "#Example:\n",
    "#Using groupby() to find the average age by gender:\n",
    "average_age_by_gender = df.groupby('Gender')['Age'].mean()\n",
    "print(average_age_by_gender)"
   ]
  },
  {
   "cell_type": "markdown",
   "id": "7159f60d-1106-4cf1-9111-66a8eaceb5bc",
   "metadata": {},
   "source": [
    "# Q6. Which of the following is mutable in nature Series, DataFrame, Panel?\n",
    "Ans.Series: Mutable\n",
    "DataFrame: Mutable\n",
    "Panel: Mutable (Note: The Panel has been deprecated as of Pandas version 1.0.0)"
   ]
  },
  {
   "cell_type": "code",
   "execution_count": 5,
   "id": "391b4bfa-2d58-472a-bfee-bae5b6b9e396",
   "metadata": {},
   "outputs": [
    {
     "name": "stdout",
     "output_type": "stream",
     "text": [
      "     Name  Age  Gender\n",
      "0   Alice   25  Female\n",
      "1     Bob   30    Male\n",
      "2  Claire   27  Female\n"
     ]
    }
   ],
   "source": [
    "#Q7. Create a DataFrame using multiple Series. Explain with an example.\n",
    "# Define Series\n",
    "names = pd.Series(['Alice', 'Bob', 'Claire'])\n",
    "ages = pd.Series([25, 30, 27])\n",
    "genders = pd.Series(['Female', 'Male', 'Female'])\n",
    "\n",
    "# Create DataFrame from multiple Series\n",
    "df_from_series = pd.DataFrame({\n",
    "    'Name': names,\n",
    "    'Age': ages,\n",
    "    'Gender': genders\n",
    "})\n",
    "\n",
    "# Print the DataFrame\n",
    "print(df_from_series)\n"
   ]
  },
  {
   "cell_type": "code",
   "execution_count": null,
   "id": "428648c8-cf06-4642-87ae-91efff4e11be",
   "metadata": {},
   "outputs": [],
   "source": []
  }
 ],
 "metadata": {
  "kernelspec": {
   "display_name": "Python 3 (ipykernel)",
   "language": "python",
   "name": "python3"
  },
  "language_info": {
   "codemirror_mode": {
    "name": "ipython",
    "version": 3
   },
   "file_extension": ".py",
   "mimetype": "text/x-python",
   "name": "python",
   "nbconvert_exporter": "python",
   "pygments_lexer": "ipython3",
   "version": "3.11.7"
  }
 },
 "nbformat": 4,
 "nbformat_minor": 5
}
