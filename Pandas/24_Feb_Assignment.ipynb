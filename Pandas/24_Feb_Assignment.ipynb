{
 "cells": [
  {
   "cell_type": "markdown",
   "id": "db3a7cdd-9b8f-43dc-8f4c-b4daa3e19176",
   "metadata": {},
   "source": [
    "# Q1. List any five functions of the pandas library with execution.\n",
    "\n",
    "\n",
    "1. pd.read_csv(): Reads a CSV file into a DataFrame\n",
    "\n",
    "import pandas as pd\r\n",
    "\n",
    "\n",
    "df = pd.read_csv('file.csv')\n",
    "2.  df.head(): Displays the first few rows of the DataFrame.\n",
    "\n",
    "    \n",
    "print(df.head())\n",
    "\n",
    "3.df.describe(): Generates descriptive statistics.\n",
    "\n",
    "print(df.describe())\n",
    "\n",
    "4.df.drop(): Removes specified labels from rows or columns.\n",
    "\n",
    "df = df.drop('column_name', axis=1)  # Drops a column\n",
    "\n",
    "5.df.groupby(): Groups DataFrame using a mapper or by a Series of columns.\n",
    "\n",
    "grouped = df.groupby('column_name').sum()\r\n"
   ]
  },
  {
   "cell_type": "markdown",
   "id": "ef118edc-d01f-4346-83e3-0822725adf9c",
   "metadata": {},
   "source": [
    "# Q2. Given a Pandas DataFrame df with columns 'A', 'B', and 'C', write a Python function to re-index the \n",
    "DataFrame with a new index that starts from 1 and increments by 2 for each row\n",
    "\n",
    "\n",
    "def reindex_dataframe(df):\n",
    "\r\n",
    "    df.index = range(1, 2 * len(df) + 1, 2)\n",
    "      return df\r\n",
    "\n",
    "."
   ]
  },
  {
   "cell_type": "markdown",
   "id": "fa67b518-ed15-42d2-b976-a78454b4c615",
   "metadata": {},
   "source": [
    "# Q3. You have a Pandas DataFrame df with a column named 'Values'. Write a Python function that\r\n",
    "iterates over the DataFrame and calculates the sum of the first three values in the 'Values' column. The\r\n",
    "function should print the sum to the console.\r\n",
    "For example, if the 'Values' column of df contains the values [10, 20, 30, 40, 50], your function should\r\n",
    "calculate and print the sum of the first three values, which is 60.)\r\n"
   ]
  },
  {
   "cell_type": "code",
   "execution_count": 1,
   "id": "75c646ad-063a-452b-b6b0-120e1819f70f",
   "metadata": {},
   "outputs": [
    {
     "name": "stdout",
     "output_type": "stream",
     "text": [
      "60\n"
     ]
    }
   ],
   "source": [
    "import pandas as pd\n",
    "\n",
    "# Example DataFrame\n",
    "data = {'Values': [10, 20, 30, 40, 50]}\n",
    "df = pd.DataFrame(data)\n",
    "\n",
    "def sum_first_three(df):\n",
    "    # Ensure that the DataFrame has at least three rows\n",
    "    if len(df) < 3:\n",
    "        print(\"The DataFrame has less than three values.\")\n",
    "        return\n",
    "    \n",
    "    # Calculate the sum of the first three values in the 'Values' column\n",
    "    total_sum = 0\n",
    "    for i in range(3):\n",
    "        total_sum += df['Values'].iloc[i]\n",
    "    \n",
    "    # Print the sum to the console\n",
    "    print(total_sum)\n",
    "\n",
    "# Example usage\n",
    "sum_first_three(df)  # Output should be 60\n"
   ]
  },
  {
   "cell_type": "code",
   "execution_count": 2,
   "id": "4cf0bad9-0250-4930-a81c-794fb9ba9d91",
   "metadata": {},
   "outputs": [],
   "source": [
    "# Q4. Given a Pandas DataFrame df with a column 'Text', write a Python function to create a new column\n",
    "#'Word_Count' that contains the number of words in each row of the 'Text' column.\n",
    "def add_word_count_column(df):\n",
    "    df['Word_Count'] = df['Text'].apply(lambda x: len(str(x).split()))\n",
    "    return df\n"
   ]
  },
  {
   "cell_type": "markdown",
   "id": "75afa323-60b7-4888-94f3-83c2e9adaf4c",
   "metadata": {},
   "source": [
    "# Q5. How are DataFrame.size() and DataFrame.shape() different?\n",
    "DataFrame.size: Returns the total number of elements in the DataFrame (rows * columns).\n",
    "DataFrame.shape: Returns a tuple representing the dimensionality (number of rows, number of columns) of the DataFrame."
   ]
  },
  {
   "cell_type": "markdown",
   "id": "4750e770-30ac-4f28-8962-84a555be8c11",
   "metadata": {},
   "source": [
    "# Q6. Which function of pandas do we use to read an excel file?\n",
    "pd.read_excel()"
   ]
  },
  {
   "cell_type": "markdown",
   "id": "c842f786-1d17-4e4b-9cf1-8e2d41f95a57",
   "metadata": {},
   "source": [
    "# Q7. You have a Pandas DataFrame df that contains a column named 'Email' that contains email\n",
    "addresses in the format 'username@domain.com'. Write a Python function that creates a new column\n",
    "'Username' in df that contains only the username part of each email address.\n",
    "The username is the part of the email address that appears before the '@' symbol. For example, if the\n",
    "email address is 'john.doe@example.com', the 'Username' column should contain 'john.doe'. Your\n",
    "function should extract the username from each email address and store it in the new 'Username'\n",
    "column."
   ]
  },
  {
   "cell_type": "code",
   "execution_count": 3,
   "id": "e2baec7a-5f5f-48a4-b8b6-5573b52de853",
   "metadata": {},
   "outputs": [
    {
     "name": "stdout",
     "output_type": "stream",
     "text": [
      "                  Email  Username\n",
      "0  john.doe@example.com  john.doe\n",
      "1  jane.doe@example.org  jane.doe\n",
      "2    user123@domain.net   user123\n"
     ]
    }
   ],
   "source": [
    "#Ans.\n",
    "import pandas as pd\n",
    "\n",
    "# Example DataFrame\n",
    "data = {'Email': ['john.doe@example.com', 'jane.doe@example.org', 'user123@domain.net']}\n",
    "df = pd.DataFrame(data)\n",
    "\n",
    "def extract_username(df):\n",
    "    # Create 'Username' column by extracting the part of the email before '@'\n",
    "    df['Username'] = df['Email'].apply(lambda x: x.split('@')[0])\n",
    "    return df\n",
    "\n",
    "# Example usage\n",
    "df = extract_username(df)\n",
    "print(df)\n"
   ]
  },
  {
   "cell_type": "raw",
   "id": "8c381d00-ebef-4093-9825-805e3403c015",
   "metadata": {},
   "source": [
    "Q8. You have a Pandas DataFrame df with columns 'A', 'B', and 'C'. Write a Python function that selects\n",
    "all rows where the value in column 'A' is greater than 5 and the value in column 'B' is less than 10. The\n",
    "function should return a new DataFrame that contains only the selected rows.\n",
    "For example, if df contains the following values:\n",
    "A B C\n",
    "0 3 5 1\n",
    "1 8 2 7\n",
    "2 6 9 4\n",
    "3 2 3 5\n",
    "4 9 1 2\n",
    "\n",
    "\n",
    "Your function should select the following rows: A B C\n",
    "1 8 2 7\n",
    "4 9 1 2\n",
    "The function should return a new DataFrame that contains only the selected rows."
   ]
  },
  {
   "cell_type": "code",
   "execution_count": 4,
   "id": "efab583b-e53e-41f0-8c4c-d1651750b507",
   "metadata": {},
   "outputs": [
    {
     "name": "stdout",
     "output_type": "stream",
     "text": [
      "   A  B  C\n",
      "1  8  2  7\n",
      "2  6  9  4\n",
      "4  9  1  2\n"
     ]
    }
   ],
   "source": [
    "import pandas as pd\n",
    "\n",
    "# Example DataFrame\n",
    "data = {\n",
    "    'A': [3, 8, 6, 2, 9],\n",
    "    'B': [5, 2, 9, 3, 1],\n",
    "    'C': [1, 7, 4, 5, 2]\n",
    "}\n",
    "df = pd.DataFrame(data)\n",
    "\n",
    "def select_rows(df):\n",
    "    # Select rows where the value in 'A' is greater than 5 and the value in 'B' is less than 10\n",
    "    filtered_df = df[(df['A'] > 5) & (df['B'] < 10)]\n",
    "    return filtered_df\n",
    "\n",
    "# Example usage\n",
    "filtered_df = select_rows(df)\n",
    "print(filtered_df)\n"
   ]
  },
  {
   "cell_type": "raw",
   "id": "8b1e48eb-3ff0-4050-9192-1ffb02e86461",
   "metadata": {},
   "source": [
    "Q9. Given a Pandas DataFrame df with a column 'Values', write a Python function to calculate the mean,\n",
    "median, and standard deviation of the values in the 'Values' column."
   ]
  },
  {
   "cell_type": "code",
   "execution_count": 5,
   "id": "33d529c0-a75b-4bde-909d-d5ecf6ed8476",
   "metadata": {},
   "outputs": [
    {
     "name": "stdout",
     "output_type": "stream",
     "text": [
      "Mean: 30.0, Median: 30.0, Standard Deviation: 15.811388300841896\n"
     ]
    }
   ],
   "source": [
    "import pandas as pd\n",
    "\n",
    "# Example DataFrame\n",
    "data = {'Values': [10, 20, 30, 40, 50]}\n",
    "df = pd.DataFrame(data)\n",
    "\n",
    "def calculate_statistics(df):\n",
    "    # Calculate mean\n",
    "    mean_value = df['Values'].mean()\n",
    "    \n",
    "    # Calculate median\n",
    "    median_value = df['Values'].median()\n",
    "    \n",
    "    # Calculate standard deviation\n",
    "    std_dev_value = df['Values'].std()\n",
    "    \n",
    "    return mean_value, median_value, std_dev_value\n",
    "\n",
    "# Example usage\n",
    "mean, median, std_dev = calculate_statistics(df)\n",
    "print(f\"Mean: {mean}, Median: {median}, Standard Deviation: {std_dev}\")\n"
   ]
  },
  {
   "cell_type": "raw",
   "id": "48e63571-dd94-41cc-80d0-aa0a64bc1ea3",
   "metadata": {},
   "source": [
    "Q10. Given a Pandas DataFrame df with a column 'Sales' and a column 'Date', write a Python function to\n",
    "create a new column 'MovingAverage' that contains the moving average of the sales for the past 7 days\n",
    "for each row in the DataFrame. The moving average should be calculated using a window of size 7 and\n",
    "should include the current day."
   ]
  },
  {
   "cell_type": "code",
   "execution_count": 6,
   "id": "f2ba02e0-69a3-4fac-b6ca-7b065e45b62d",
   "metadata": {},
   "outputs": [
    {
     "name": "stdout",
     "output_type": "stream",
     "text": [
      "        Date  Sales  MovingAverage\n",
      "0 2023-01-01    100          100.0\n",
      "1 2023-01-02    150          125.0\n",
      "2 2023-01-03    200          150.0\n",
      "3 2023-01-04    250          175.0\n",
      "4 2023-01-05    300          200.0\n",
      "5 2023-01-06    350          225.0\n",
      "6 2023-01-07    400          250.0\n",
      "7 2023-01-08    450          300.0\n",
      "8 2023-01-09    500          350.0\n",
      "9 2023-01-10    550          400.0\n"
     ]
    }
   ],
   "source": [
    "import pandas as pd\n",
    "\n",
    "# Example DataFrame\n",
    "data = {\n",
    "    'Date': pd.date_range(start='2023-01-01', periods=10, freq='D'),\n",
    "    'Sales': [100, 150, 200, 250, 300, 350, 400, 450, 500, 550]\n",
    "}\n",
    "df = pd.DataFrame(data)\n",
    "\n",
    "def add_moving_average(df):\n",
    "    # Ensure 'Date' is in datetime format\n",
    "    df['Date'] = pd.to_datetime(df['Date'])\n",
    "    \n",
    "    # Sort the DataFrame by 'Date' to ensure correct moving average calculation\n",
    "    df = df.sort_values(by='Date')\n",
    "    \n",
    "    # Calculate the 7-day moving average of the 'Sales' column\n",
    "    df['MovingAverage'] = df['Sales'].rolling(window=7, min_periods=1).mean()\n",
    "    \n",
    "    return df\n",
    "\n",
    "# Example usage\n",
    "df = add_moving_average(df)\n",
    "print(df)\n"
   ]
  },
  {
   "cell_type": "raw",
   "id": "a48cf313-3c68-42aa-8327-de8811e7d7e2",
   "metadata": {},
   "source": [
    "Q11. You have a Pandas DataFrame df with a column 'Date'. Write a Python function that creates a new\n",
    "column 'Weekday' in the DataFrame. The 'Weekday' column should contain the weekday name (e.g.\n",
    "Monday, Tuesday) corresponding to each date in the 'Date' column.\n",
    "For example, if df contains the following values:\n",
    "Date\n",
    "0 2023-01-01\n",
    "1 2023-01-02\n",
    "2 2023-01-03\n",
    "3 2023-01-04\n",
    "4 2023-01-05\n",
    "Your function should create the following DataFrame:\n",
    "\n",
    "Date Weekday\n",
    "0 2023-01-01 Sunday\n",
    "1 2023-01-02 Monday\n",
    "2 2023-01-03 Tuesday\n",
    "3 2023-01-04 Wednesday\n",
    "4 2023-01-05 Thursday\n",
    "The function should return the modified DataFrame."
   ]
  },
  {
   "cell_type": "code",
   "execution_count": 7,
   "id": "31f63ff8-7ff4-4ad1-b197-c8fffb87047c",
   "metadata": {},
   "outputs": [
    {
     "name": "stdout",
     "output_type": "stream",
     "text": [
      "        Date    Weekday\n",
      "0 2023-01-01     Sunday\n",
      "1 2023-01-02     Monday\n",
      "2 2023-01-03    Tuesday\n",
      "3 2023-01-04  Wednesday\n",
      "4 2023-01-05   Thursday\n"
     ]
    }
   ],
   "source": [
    "import pandas as pd\n",
    "\n",
    "# Example DataFrame\n",
    "data = {\n",
    "    'Date': ['2023-01-01', '2023-01-02', '2023-01-03', '2023-01-04', '2023-01-05']\n",
    "}\n",
    "df = pd.DataFrame(data)\n",
    "\n",
    "def add_weekday_column(df):\n",
    "    # Ensure 'Date' is in datetime format\n",
    "    df['Date'] = pd.to_datetime(df['Date'])\n",
    "    \n",
    "    # Create 'Weekday' column with the weekday names\n",
    "    df['Weekday'] = df['Date'].dt.day_name()\n",
    "    \n",
    "    return df\n",
    "\n",
    "# Example usage\n",
    "df = add_weekday_column(df)\n",
    "print(df)\n"
   ]
  },
  {
   "cell_type": "raw",
   "id": "fa275ee5-ff02-4f26-ba96-4287a29e1f84",
   "metadata": {},
   "source": [
    "Q12. Given a Pandas DataFrame df with a column 'Date' that contains timestamps, write a Python\n",
    "function to select all rows where the date is between '2023-01-01' and '2023-01-31'."
   ]
  },
  {
   "cell_type": "code",
   "execution_count": 8,
   "id": "61737fad-4ff3-43a9-8a8c-d4627b751795",
   "metadata": {},
   "outputs": [
    {
     "name": "stdout",
     "output_type": "stream",
     "text": [
      "                 Date  Value\n",
      "1 2023-01-01 00:00:00     20\n",
      "2 2023-01-15 12:30:00     30\n"
     ]
    }
   ],
   "source": [
    "import pandas as pd\n",
    "\n",
    "# Example DataFrame\n",
    "data = {\n",
    "    'Date': [\n",
    "        '2022-12-31 23:59:59', '2023-01-01 00:00:00', '2023-01-15 12:30:00',\n",
    "        '2023-01-31 23:59:59', '2023-02-01 00:00:00'\n",
    "    ],\n",
    "    'Value': [10, 20, 30, 40, 50]\n",
    "}\n",
    "df = pd.DataFrame(data)\n",
    "\n",
    "def select_date_range(df):\n",
    "    # Ensure 'Date' is in datetime format\n",
    "    df['Date'] = pd.to_datetime(df['Date'])\n",
    "    \n",
    "    # Define the start and end dates\n",
    "    start_date = '2023-01-01'\n",
    "    end_date = '2023-01-31'\n",
    "    \n",
    "    # Filter the DataFrame for dates within the specified range\n",
    "    filtered_df = df[(df['Date'] >= start_date) & (df['Date'] <= end_date)]\n",
    "    \n",
    "    return filtered_df\n",
    "\n",
    "# Example usage\n",
    "filtered_df = select_date_range(df)\n",
    "print(filtered_df)\n"
   ]
  },
  {
   "cell_type": "raw",
   "id": "a4045205-dc1f-411c-aa80-7a92eeec2553",
   "metadata": {},
   "source": [
    "Q13. To use the basic functions of pandas, what is the first and foremost necessary library that needs to\n",
    "be imported?"
   ]
  },
  {
   "cell_type": "code",
   "execution_count": 9,
   "id": "fa5b9c6f-f9e4-4a66-b724-f752fd69a309",
   "metadata": {},
   "outputs": [],
   "source": [
    "#The first and foremost necessary library that needs to be imported to use the basic functions of pandas is pandas itself.\n",
    "import pandas as pd\n"
   ]
  },
  {
   "cell_type": "code",
   "execution_count": null,
   "id": "a0d3beab-3a8f-4ce5-b7bf-ae65c359aab9",
   "metadata": {},
   "outputs": [],
   "source": []
  }
 ],
 "metadata": {
  "kernelspec": {
   "display_name": "Python 3 (ipykernel)",
   "language": "python",
   "name": "python3"
  },
  "language_info": {
   "codemirror_mode": {
    "name": "ipython",
    "version": 3
   },
   "file_extension": ".py",
   "mimetype": "text/x-python",
   "name": "python",
   "nbconvert_exporter": "python",
   "pygments_lexer": "ipython3",
   "version": "3.11.7"
  }
 },
 "nbformat": 4,
 "nbformat_minor": 5
}
